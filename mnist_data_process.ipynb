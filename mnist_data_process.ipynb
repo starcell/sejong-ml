{
  "cells": [
    {
      "cell_type": "markdown",
      "metadata": {
        "id": "g5ynd5-QwPQu"
      },
      "source": [
        "<a href=\"https://colab.research.google.com/github/starcell/sejong-ml/blob/main/mnist-data-process.ipynb\" target=\"_parent\"><img src=\"https://colab.research.google.com/assets/colab-badge.svg\" alt=\"Open In Colab\"/></a>"
      ]
    },
    {
      "cell_type": "markdown",
      "metadata": {
        "id": "Jmcf18oywPQv"
      },
      "source": [
        "# MNIST 이미지 데이터 다루기  \n",
        "(주)스타셀 Starcell Inc."
      ]
    },
    {
      "cell_type": "markdown",
      "metadata": {
        "id": "w0qWOXDVwPQv"
      },
      "source": [
        "---\n",
        "이 과정에서는 MNIST Dataset에 있는 이미지들을 분석하고 이미지 데이터를 프로그램에서 처리하는 방법을 배운다.\n",
        "\n",
        "![](https://upload.wikimedia.org/wikipedia/commons/f/f7/MnistExamplesModified.png)\n",
        "\n",
        "MNIST 데이터베이스 (Modified National Institute of Standards and Technology database)는 손으로 쓴 **`0~9까지 숫자`들로 이루어진 대형 데이터베이스**이며, 28x28 픽셀의 흑백 이미지 70,000개로 되어 있고 **`60,000개의 트레이닝 이미지와 10,000개의 테스트 이미지를 포함`** 한다.\n",
        "\n",
        "참고 : [위키백과](https://ko.wikipedia.org/wiki/MNIST_%EB%8D%B0%EC%9D%B4%ED%84%B0%EB%B2%A0%EC%9D%B4%EC%8A%A4)"
      ]
    },
    {
      "cell_type": "markdown",
      "metadata": {
        "id": "v8ql7rRdwPQw"
      },
      "source": [
        "---\n",
        "이미지 파일 읽어오기"
      ]
    },
    {
      "cell_type": "code",
      "execution_count": null,
      "metadata": {
        "id": "1OTYSuFewPQw"
      },
      "outputs": [],
      "source": [
        "from PIL import Image\n",
        "import numpy as np\n",
        "import matplotlib.pyplot as plt\n",
        "import requests\n",
        "from io import BytesIO"
      ]
    },
    {
      "cell_type": "code",
      "execution_count": null,
      "metadata": {
        "id": "ueNocs3MwPQx"
      },
      "outputs": [],
      "source": [
        "# img_dir = './data/'\n",
        "# img_file = img_dir + 'mnist-5.png'\n",
        "# print(img_file)"
      ]
    },
    {
      "cell_type": "code",
      "execution_count": null,
      "metadata": {
        "colab": {
          "base_uri": "https://localhost:8080/"
        },
        "id": "in42f6thwPQx",
        "outputId": "01b11397-ab7c-44d8-968a-0eef8b7885a0"
      },
      "outputs": [],
      "source": [
        "img_url = 'https://github.com/starcell/sejong-ml/blob/main/mnist-5.png?raw=true'\n",
        "print(img_url)"
      ]
    },
    {
      "cell_type": "code",
      "execution_count": null,
      "metadata": {
        "id": "euGDOX8JwPQx"
      },
      "outputs": [],
      "source": [
        "# Step 2: Fetch the image from the URL\n",
        "response = requests.get(img_url)"
      ]
    },
    {
      "cell_type": "code",
      "execution_count": null,
      "metadata": {
        "id": "FOPFeI6OwPQy"
      },
      "outputs": [],
      "source": [
        "# Step 3: Open the image using PIL\n",
        "img = Image.open(BytesIO(response.content), formats=['PNG'])"
      ]
    },
    {
      "cell_type": "code",
      "execution_count": null,
      "metadata": {
        "id": "f9BTDyauwPQy"
      },
      "outputs": [],
      "source": [
        "# Open the image and convert to grayscale\n",
        "img_gray = img.convert('L')"
      ]
    },
    {
      "cell_type": "markdown",
      "metadata": {
        "id": "mY0LMlZQwPQy"
      },
      "source": [
        "---\n",
        "로드된 이미지 데이터의 타입과 크기를 출력해 본다."
      ]
    },
    {
      "cell_type": "code",
      "execution_count": null,
      "metadata": {
        "colab": {
          "base_uri": "https://localhost:8080/"
        },
        "id": "SC9uL7oKwPQy",
        "outputId": "92b2a228-ad80-4300-fef0-06b609e1a366"
      },
      "outputs": [],
      "source": [
        "print(type(img))\n",
        "print(img.size)"
      ]
    },
    {
      "cell_type": "code",
      "execution_count": null,
      "metadata": {
        "colab": {
          "base_uri": "https://localhost:8080/"
        },
        "id": "YKL-KWXVwPQy",
        "outputId": "d9e42131-9b3e-4eff-e15d-6f08c4440c4e"
      },
      "outputs": [],
      "source": [
        "print(type(img_gray))\n",
        "print(img_gray.size)"
      ]
    },
    {
      "cell_type": "markdown",
      "metadata": {
        "id": "VP6J5ZMowPQy"
      },
      "source": [
        "---\n",
        "display()함수를 이용하여 로드된 이미지 데이터를 그림으로 표시한다."
      ]
    },
    {
      "cell_type": "code",
      "execution_count": null,
      "metadata": {
        "colab": {
          "base_uri": "https://localhost:8080/",
          "height": 45
        },
        "id": "4ZlYiVRbwPQy",
        "outputId": "553e914d-c554-42a1-fc76-55ad6aeadfa4"
      },
      "outputs": [],
      "source": [
        "display(img)"
      ]
    },
    {
      "cell_type": "markdown",
      "metadata": {
        "editable": true,
        "id": "utyfykohwPQz",
        "tags": []
      },
      "source": [
        "---\n",
        "파이썬의 대표적인 그래픽 패키지인 matplotlib 라이브러리를 임포트한다.  \n",
        "아래의 구문은 matplotlib 라이브러리를 임포트하여 plt란 이름으로 사용하겠다는 의미이다."
      ]
    },
    {
      "cell_type": "code",
      "execution_count": null,
      "metadata": {
        "colab": {
          "base_uri": "https://localhost:8080/",
          "height": 449
        },
        "id": "InNbOLTbwPQz",
        "outputId": "e15d8b52-3a11-4901-fcc4-02dc1aa930c7"
      },
      "outputs": [],
      "source": [
        "plt.imshow(img, cmap='gray')"
      ]
    },
    {
      "cell_type": "markdown",
      "metadata": {
        "id": "XH7bj03DwPQz"
      },
      "source": [
        "---\n",
        "numpy.ndarray 타입의 변수 뒤에 .shape를 붙이면 어레이 데이터의 크기(shape 또는 차원)을 볼 수 있다."
      ]
    },
    {
      "cell_type": "code",
      "execution_count": null,
      "metadata": {
        "colab": {
          "base_uri": "https://localhost:8080/"
        },
        "id": "FsyKdAfkwPQz",
        "outputId": "7929bb48-f239-4aca-88c4-1b9ef012fce7"
      },
      "outputs": [],
      "source": [
        "# Convert to NumPy array\n",
        "img_array = np.array(img_gray)\n",
        "\n",
        "# Check the type and shape\n",
        "print(type(img_array))  # <class 'numpy.ndarray'>\n",
        "print(img_array.shape)  # e.g., (height, width)"
      ]
    },
    {
      "cell_type": "markdown",
      "metadata": {
        "id": "cQvKJOWxwPQz"
      },
      "source": [
        "---\n",
        "어레이의 값을 출력하여 본다."
      ]
    },
    {
      "cell_type": "code",
      "execution_count": null,
      "metadata": {
        "colab": {
          "base_uri": "https://localhost:8080/"
        },
        "id": "OL8RQ1YmwPQz",
        "outputId": "a348348f-d110-460a-c1a0-6d0678e6bd59"
      },
      "outputs": [],
      "source": [
        "print(img_array)"
      ]
    },
    {
      "cell_type": "code",
      "execution_count": null,
      "metadata": {
        "colab": {
          "base_uri": "https://localhost:8080/"
        },
        "id": "kUQBsM6TwPQz",
        "outputId": "27ad3299-a0b5-45e5-ec4b-99203d2b9757"
      },
      "outputs": [],
      "source": [
        "large_width = 500\n",
        "np.set_printoptions(linewidth=large_width)\n",
        "# np.set_printoptions(precision=3)\n",
        "\n",
        "print(img_array)"
      ]
    },
    {
      "cell_type": "markdown",
      "metadata": {
        "id": "xNzGJnGtwPQz"
      },
      "source": [
        "---\n",
        "matplotlib의 imshow()함수는 numpy.ndarray 타입의 입력을 받아도 그림으로 보여준다. 이때 디폴트 옵션으로 처리하면 컬러이미지로 보여준다."
      ]
    },
    {
      "cell_type": "code",
      "execution_count": null,
      "metadata": {
        "colab": {
          "base_uri": "https://localhost:8080/",
          "height": 449
        },
        "id": "Ps6VYYgpwPQz",
        "outputId": "84b6b5e5-7880-4e40-b177-378c587bb4ae",
        "scrolled": true
      },
      "outputs": [],
      "source": [
        "# plt.imshow(img_array, cmap='gray')\n",
        "plt.imshow(img_array)"
      ]
    },
    {
      "cell_type": "code",
      "execution_count": null,
      "metadata": {
        "id": "7ZXrwU0owPQz"
      },
      "outputs": [],
      "source": [
        "from torchvision import datasets, transforms"
      ]
    },
    {
      "cell_type": "code",
      "execution_count": null,
      "metadata": {
        "colab": {
          "base_uri": "https://localhost:8080/"
        },
        "id": "QDq6ZkDpwPQz",
        "outputId": "86074204-4da4-4853-c058-4f04d7f760d9"
      },
      "outputs": [],
      "source": [
        "# MNIST dataset\n",
        "train_dataset = datasets.MNIST(root='./data', train=True, transform=transforms.ToTensor(), download=True)\n",
        "test_dataset = datasets.MNIST(root='./data', train=False, transform=transforms.ToTensor())"
      ]
    },
    {
      "cell_type": "markdown",
      "metadata": {
        "id": "TxIybPEGwPQz"
      },
      "source": [
        "---\n",
        "train_dataset에는 손글씨 숫자 이미지에 해당하는 텐서 데이터와 그 이미지가 실제 어떤 수인지를 알려주는 target이 포함되어 있다.  \n",
        "target은 label, y값, ground truth, 정답 등으로 불린다.  \n",
        "머신러닝(딥러닝 포함)에서는 텐서 데이터를 모델에 입력하여 결과 값을 구하고 이렇게 구한 값이 label(또는 target)과 차이가 최소가 되도록 만든다."
      ]
    },
    {
      "cell_type": "code",
      "execution_count": null,
      "metadata": {
        "colab": {
          "base_uri": "https://localhost:8080/"
        },
        "id": "OvnVaqa5w667",
        "outputId": "d6246305-68c6-40bb-d1cc-872320e2d6cb"
      },
      "outputs": [],
      "source": [
        "type(train_dataset.data)"
      ]
    },
    {
      "cell_type": "code",
      "execution_count": null,
      "metadata": {
        "colab": {
          "base_uri": "https://localhost:8080/"
        },
        "id": "iFOsc9qZwo2L",
        "outputId": "e8d736ee-29c1-4964-df6c-833ad75dfe69"
      },
      "outputs": [],
      "source": [
        "train_dataset.data.shape"
      ]
    },
    {
      "cell_type": "code",
      "execution_count": null,
      "metadata": {
        "colab": {
          "base_uri": "https://localhost:8080/"
        },
        "id": "dRuIWfLExGv9",
        "outputId": "6f6c527d-5d4c-4239-a6bb-1eff956a4962"
      },
      "outputs": [],
      "source": [
        "train_dataset.targets.shape"
      ]
    },
    {
      "cell_type": "code",
      "execution_count": null,
      "metadata": {
        "colab": {
          "base_uri": "https://localhost:8080/"
        },
        "id": "JPDGa8L0xQgO",
        "outputId": "76c77680-0ee0-4cd9-9e0c-6be42fb044d5"
      },
      "outputs": [],
      "source": [
        "train_dataset.classes"
      ]
    },
    {
      "cell_type": "code",
      "execution_count": null,
      "metadata": {
        "colab": {
          "base_uri": "https://localhost:8080/"
        },
        "id": "-svW49tpwPQz",
        "outputId": "d78570bb-0f38-4f8b-f47c-67e72b21e93c"
      },
      "outputs": [],
      "source": [
        "# Train / Test 데이터의 크기 확인\n",
        "print('MNIST Train 데이터의 크기 : {}'.format(len(train_dataset.data)))\n",
        "print('MNIST Test 데이터의 크기 : {}'.format(len(test_dataset.data)))"
      ]
    },
    {
      "cell_type": "markdown",
      "metadata": {
        "id": "NISzx49kwPQ0"
      },
      "source": [
        "---\n",
        "데이터를 하나 선택하여 출력해 본다. (0 ~ 59999)"
      ]
    },
    {
      "cell_type": "code",
      "execution_count": null,
      "metadata": {
        "colab": {
          "base_uri": "https://localhost:8080/"
        },
        "id": "ZRw80HLywPQ0",
        "outputId": "1b69105d-70f9-47a4-9961-159429f5914e"
      },
      "outputs": [],
      "source": [
        "train_dataset.data[59999]"
      ]
    },
    {
      "cell_type": "markdown",
      "metadata": {
        "id": "AP1W84p3wPQ0"
      },
      "source": [
        "---\n",
        "데이터를 선택하여 이미지로 출력해 본다."
      ]
    },
    {
      "cell_type": "code",
      "execution_count": null,
      "metadata": {
        "colab": {
          "base_uri": "https://localhost:8080/",
          "height": 449
        },
        "id": "gyrcTFPpwPQ0",
        "outputId": "1499a94a-b1f8-4422-e542-4c09d4d1b15f"
      },
      "outputs": [],
      "source": [
        "plt.imshow(train_dataset.data[59999])"
      ]
    },
    {
      "cell_type": "markdown",
      "metadata": {
        "id": "Z-yupHPUwPQ0"
      },
      "source": [
        "---\n",
        "첫번째 어레이데이터를 이미지 파일로 저장해 본다."
      ]
    },
    {
      "cell_type": "code",
      "execution_count": null,
      "metadata": {
        "id": "W889y0yTwPQ0"
      },
      "outputs": [],
      "source": [
        "save_file = 'x_train_59999.png'"
      ]
    },
    {
      "cell_type": "code",
      "execution_count": null,
      "metadata": {
        "id": "UswwR5yVwPQ0"
      },
      "outputs": [],
      "source": [
        "plt.imsave(save_file, train_dataset.data[59999], cmap='gray')\n",
        "plt.close()"
      ]
    },
    {
      "cell_type": "code",
      "execution_count": null,
      "metadata": {
        "id": "Ue0jGTf1wPQ0"
      },
      "outputs": [],
      "source": [
        "import matplotlib.image as mpimg"
      ]
    },
    {
      "cell_type": "code",
      "execution_count": null,
      "metadata": {
        "colab": {
          "base_uri": "https://localhost:8080/"
        },
        "id": "0xNpWNmYwPQ0",
        "outputId": "1ff33e07-f12d-46e5-c5c5-b11b2d7d5c36"
      },
      "outputs": [],
      "source": [
        "img3 = mpimg.imread(save_file)\n",
        "img3.shape"
      ]
    },
    {
      "cell_type": "code",
      "execution_count": null,
      "metadata": {
        "colab": {
          "base_uri": "https://localhost:8080/",
          "height": 430
        },
        "id": "In7fIOblwPQ0",
        "outputId": "ba773cff-dd8b-4034-9630-eee976c4ed66"
      },
      "outputs": [],
      "source": [
        "imgplot = plt.imshow(img3)"
      ]
    },
    {
      "cell_type": "code",
      "execution_count": null,
      "metadata": {
        "id": "uQNm_CqwwPQ3"
      },
      "outputs": [],
      "source": [
        "unique, counts = np.unique(train_dataset.targets, return_counts=True)"
      ]
    },
    {
      "cell_type": "code",
      "execution_count": null,
      "metadata": {
        "colab": {
          "base_uri": "https://localhost:8080/"
        },
        "id": "dOpgz0yhwPQ3",
        "outputId": "e6c5f2db-e1b1-4d0a-a48d-325c13b521e2"
      },
      "outputs": [],
      "source": [
        "unique"
      ]
    },
    {
      "cell_type": "code",
      "execution_count": null,
      "metadata": {
        "colab": {
          "base_uri": "https://localhost:8080/"
        },
        "id": "DgxMOiQIwPQ3",
        "outputId": "3f1c4856-5172-493c-835e-b70c493397e8"
      },
      "outputs": [],
      "source": [
        "counts"
      ]
    },
    {
      "cell_type": "code",
      "execution_count": null,
      "metadata": {
        "colab": {
          "base_uri": "https://localhost:8080/"
        },
        "id": "2eWzRAdkwPQ3",
        "outputId": "dda540fb-ad69-484c-eb06-ffdc95978720"
      },
      "outputs": [],
      "source": [
        "np.sum(counts)"
      ]
    },
    {
      "cell_type": "markdown",
      "metadata": {
        "id": "8-0Rzkn9wPQ4"
      },
      "source": [
        "---\n",
        "각 숫자별 데이터의 개수를 출력해 본다."
      ]
    },
    {
      "cell_type": "code",
      "execution_count": null,
      "metadata": {
        "colab": {
          "base_uri": "https://localhost:8080/"
        },
        "id": "N-CukguPwPQ4",
        "outputId": "d0518277-99bb-422e-849b-af44f3859072"
      },
      "outputs": [],
      "source": [
        "print(\"Train labels: \", dict(zip(unique, counts)))"
      ]
    },
    {
      "cell_type": "markdown",
      "metadata": {
        "id": "unuBs-OawPQ4"
      },
      "source": [
        "---\n",
        "무작위(random)로 25개의 데이터를 뽑아 본 후 이미지와 라벨 값을 그려본다."
      ]
    },
    {
      "cell_type": "code",
      "execution_count": null,
      "metadata": {
        "id": "R6e0rGmawPQ4"
      },
      "outputs": [],
      "source": [
        "indexes = np.random.randint(0, train_dataset.data.shape[0], size=25)"
      ]
    },
    {
      "cell_type": "code",
      "execution_count": null,
      "metadata": {
        "colab": {
          "base_uri": "https://localhost:8080/"
        },
        "id": "KyZrDEjfwPQ4",
        "outputId": "bd10ed77-63d9-4cbd-876c-23687a819e8f"
      },
      "outputs": [],
      "source": [
        "indexes"
      ]
    },
    {
      "cell_type": "code",
      "execution_count": null,
      "metadata": {
        "id": "If1Rl3-ywPQ4"
      },
      "outputs": [],
      "source": [
        "images = train_dataset.data[indexes]\n",
        "labels = train_dataset.targets[indexes]"
      ]
    },
    {
      "cell_type": "code",
      "execution_count": null,
      "metadata": {
        "colab": {
          "base_uri": "https://localhost:8080/",
          "height": 483
        },
        "id": "AbXqzv9AwPQ4",
        "outputId": "1b3f52d3-da8d-45b1-fd77-5dc03a843ad3"
      },
      "outputs": [],
      "source": [
        "fig = plt.figure(figsize=(5,5))\n",
        "for i in range(len(indexes)):\n",
        "    plt.subplot(5, 5, i + 1)\n",
        "    image = images[i]\n",
        "    plt.imshow(image, cmap='gray')\n",
        "    label_name = \"Label:\" + str(train_dataset.targets[indexes[i]].item())\n",
        "    plt.title(label_name)\n",
        "    plt.tight_layout()\n",
        "    plt.axis('off')"
      ]
    },
    {
      "cell_type": "code",
      "execution_count": null,
      "metadata": {
        "id": "Mweq89n6wPQ4"
      },
      "outputs": [],
      "source": [
        "save_25_images = 'x_train-25.png'\n",
        "fig.savefig(save_25_images)\n",
        "plt.show()\n",
        "plt.close('all')"
      ]
    },
    {
      "cell_type": "code",
      "execution_count": null,
      "metadata": {
        "id": "Z6O3LJZ3wPQ4"
      },
      "outputs": [],
      "source": []
    }
  ],
  "metadata": {
    "colab": {
      "provenance": []
    },
    "kernelspec": {
      "display_name": "Python 3 (ipykernel)",
      "language": "python",
      "name": "python3"
    },
    "language_info": {
      "codemirror_mode": {
        "name": "ipython",
        "version": 3
      },
      "file_extension": ".py",
      "mimetype": "text/x-python",
      "name": "python",
      "nbconvert_exporter": "python",
      "pygments_lexer": "ipython3",
      "version": "3.11.10"
    }
  },
  "nbformat": 4,
  "nbformat_minor": 0
}
