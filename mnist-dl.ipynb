{
 "cells": [
  {
   "cell_type": "markdown",
   "id": "6bca74dd",
   "metadata": {},
   "source": [
    "<a href=\"https://colab.research.google.com/github/starcell/sejong-ml/blob/main/mnist-dl.ipynb\" target=\"_parent\"><img src=\"https://colab.research.google.com/assets/colab-badge.svg\" alt=\"Open In Colab\"/></a>"
   ]
  },
  {
   "cell_type": "code",
   "execution_count": 1,
   "id": "4394bdd5-58bd-4e24-9c19-02ebe083143c",
   "metadata": {},
   "outputs": [],
   "source": [
    "import torch\n",
    "import torch.nn as nn\n",
    "import torch.nn.functional as F\n",
    "import torch.optim as optim\n",
    "from torchvision import datasets, transforms\n",
    "from torch.utils.data import DataLoader"
   ]
  },
  {
   "cell_type": "code",
   "execution_count": 2,
   "id": "83e07cd9-aba1-4767-8a6c-e9f509575bf1",
   "metadata": {},
   "outputs": [],
   "source": [
    "# Check if CUDA is available and set device\n",
    "device = torch.device('cuda' if torch.cuda.is_available() else 'cpu')"
   ]
  },
  {
   "cell_type": "code",
   "execution_count": 4,
   "id": "7db275e6-5feb-4601-b5ae-d68b32c6c3a3",
   "metadata": {},
   "outputs": [],
   "source": [
    "# Hyperparameters\n",
    "batch_size = 64\n",
    "learning_rate = 0.01\n",
    "epochs = 10"
   ]
  },
  {
   "cell_type": "code",
   "execution_count": 5,
   "id": "fe886e50-58e7-420f-a30f-4e03928b3161",
   "metadata": {},
   "outputs": [
    {
     "name": "stdout",
     "output_type": "stream",
     "text": [
      "Downloading http://yann.lecun.com/exdb/mnist/train-images-idx3-ubyte.gz\n",
      "Failed to download (trying next):\n",
      "HTTP Error 403: Forbidden\n",
      "\n",
      "Downloading https://ossci-datasets.s3.amazonaws.com/mnist/train-images-idx3-ubyte.gz\n",
      "Downloading https://ossci-datasets.s3.amazonaws.com/mnist/train-images-idx3-ubyte.gz to ./data/MNIST/raw/train-images-idx3-ubyte.gz\n"
     ]
    },
    {
     "name": "stderr",
     "output_type": "stream",
     "text": [
      "100%|██████████| 9912422/9912422 [00:01<00:00, 5644135.34it/s]\n"
     ]
    },
    {
     "name": "stdout",
     "output_type": "stream",
     "text": [
      "Extracting ./data/MNIST/raw/train-images-idx3-ubyte.gz to ./data/MNIST/raw\n",
      "\n",
      "Downloading http://yann.lecun.com/exdb/mnist/train-labels-idx1-ubyte.gz\n",
      "Failed to download (trying next):\n",
      "HTTP Error 403: Forbidden\n",
      "\n",
      "Downloading https://ossci-datasets.s3.amazonaws.com/mnist/train-labels-idx1-ubyte.gz\n",
      "Downloading https://ossci-datasets.s3.amazonaws.com/mnist/train-labels-idx1-ubyte.gz to ./data/MNIST/raw/train-labels-idx1-ubyte.gz\n"
     ]
    },
    {
     "name": "stderr",
     "output_type": "stream",
     "text": [
      "100%|██████████| 28881/28881 [00:00<00:00, 166664.18it/s]\n"
     ]
    },
    {
     "name": "stdout",
     "output_type": "stream",
     "text": [
      "Extracting ./data/MNIST/raw/train-labels-idx1-ubyte.gz to ./data/MNIST/raw\n",
      "\n",
      "Downloading http://yann.lecun.com/exdb/mnist/t10k-images-idx3-ubyte.gz\n",
      "Failed to download (trying next):\n",
      "HTTP Error 403: Forbidden\n",
      "\n",
      "Downloading https://ossci-datasets.s3.amazonaws.com/mnist/t10k-images-idx3-ubyte.gz\n",
      "Downloading https://ossci-datasets.s3.amazonaws.com/mnist/t10k-images-idx3-ubyte.gz to ./data/MNIST/raw/t10k-images-idx3-ubyte.gz\n"
     ]
    },
    {
     "name": "stderr",
     "output_type": "stream",
     "text": [
      "100%|██████████| 1648877/1648877 [00:01<00:00, 1597001.07it/s]\n"
     ]
    },
    {
     "name": "stdout",
     "output_type": "stream",
     "text": [
      "Extracting ./data/MNIST/raw/t10k-images-idx3-ubyte.gz to ./data/MNIST/raw\n",
      "\n",
      "Downloading http://yann.lecun.com/exdb/mnist/t10k-labels-idx1-ubyte.gz\n",
      "Failed to download (trying next):\n",
      "HTTP Error 403: Forbidden\n",
      "\n",
      "Downloading https://ossci-datasets.s3.amazonaws.com/mnist/t10k-labels-idx1-ubyte.gz\n",
      "Downloading https://ossci-datasets.s3.amazonaws.com/mnist/t10k-labels-idx1-ubyte.gz to ./data/MNIST/raw/t10k-labels-idx1-ubyte.gz\n"
     ]
    },
    {
     "name": "stderr",
     "output_type": "stream",
     "text": [
      "100%|██████████| 4542/4542 [00:00<00:00, 3126112.37it/s]"
     ]
    },
    {
     "name": "stdout",
     "output_type": "stream",
     "text": [
      "Extracting ./data/MNIST/raw/t10k-labels-idx1-ubyte.gz to ./data/MNIST/raw\n",
      "\n"
     ]
    },
    {
     "name": "stderr",
     "output_type": "stream",
     "text": [
      "\n"
     ]
    }
   ],
   "source": [
    "# MNIST dataset\n",
    "train_dataset = datasets.MNIST(root='./data', train=True, transform=transforms.ToTensor(), download=True)\n",
    "test_dataset = datasets.MNIST(root='./data', train=False, transform=transforms.ToTensor())"
   ]
  },
  {
   "cell_type": "code",
   "execution_count": 6,
   "id": "9ac1f675-ee98-4785-acaa-c8ae148fbb5a",
   "metadata": {},
   "outputs": [],
   "source": [
    "# Data loaders\n",
    "train_loader = DataLoader(dataset=train_dataset, batch_size=batch_size, shuffle=True)\n",
    "test_loader = DataLoader(dataset=test_dataset, batch_size=batch_size, shuffle=False)"
   ]
  },
  {
   "cell_type": "code",
   "execution_count": 7,
   "id": "f82ae099-5aeb-4a46-bc77-2d1c07f66f56",
   "metadata": {},
   "outputs": [],
   "source": [
    "# Define a simple CNN model\n",
    "class Net(nn.Module):\n",
    "    def __init__(self):\n",
    "        super(Net, self).__init__()\n",
    "        self.conv1 = nn.Conv2d(1, 32, kernel_size=3)\n",
    "        self.conv2 = nn.Conv2d(32, 64, kernel_size=3)\n",
    "        self.dropout1 = nn.Dropout2d(0.25)\n",
    "        self.dropout2 = nn.Dropout2d(0.5)\n",
    "        self.fc1 = nn.Linear(9216, 128)\n",
    "        self.fc2 = nn.Linear(128, 10)\n",
    "\n",
    "    def forward(self, x):\n",
    "        x = self.conv1(x)\n",
    "        x = F.relu(x)\n",
    "        x = self.conv2(x)\n",
    "        x = F.relu(x)\n",
    "        x = F.max_pool2d(x, 2)\n",
    "        x = self.dropout1(x)\n",
    "        x = torch.flatten(x, 1)\n",
    "        x = self.fc1(x)\n",
    "        x = F.relu(x)\n",
    "        x = self.dropout2(x)\n",
    "        x = self.fc2(x)\n",
    "        return F.log_softmax(x, dim=1)\n",
    "\n",
    "model = Net().to(device)"
   ]
  },
  {
   "cell_type": "code",
   "execution_count": 8,
   "id": "91926d09-cdde-4f5f-9160-b03e391a7b13",
   "metadata": {},
   "outputs": [],
   "source": [
    "# Loss and optimizer\n",
    "criterion = nn.CrossEntropyLoss()\n",
    "optimizer = optim.Adam(model.parameters(), lr=learning_rate)"
   ]
  },
  {
   "cell_type": "code",
   "execution_count": 9,
   "id": "71f57816-f69e-447c-b33e-7adf50c4b376",
   "metadata": {},
   "outputs": [],
   "source": [
    "# Training function\n",
    "def train(model, device, train_loader, optimizer, epoch):\n",
    "    model.train()\n",
    "    for batch_idx, (data, target) in enumerate(train_loader):\n",
    "        data, target = data.to(device), target.to(device)\n",
    "        \n",
    "        optimizer.zero_grad()\n",
    "        output = model(data)\n",
    "        \n",
    "        loss = criterion(output, target)\n",
    "        loss.backward()\n",
    "        \n",
    "        optimizer.step()\n",
    "        \n",
    "        if batch_idx % 100 == 0:\n",
    "            print(f'Train Epoch: {epoch} [{batch_idx * len(data)}/{len(train_loader.dataset)}] Loss: {loss.item():.6f}')"
   ]
  },
  {
   "cell_type": "code",
   "execution_count": 10,
   "id": "26e73269-deab-48ea-a511-1648d447097c",
   "metadata": {},
   "outputs": [],
   "source": [
    "# Testing function\n",
    "def test(model, device, test_loader):\n",
    "    model.eval()\n",
    "    test_loss = 0\n",
    "    correct = 0\n",
    "    \n",
    "    with torch.no_grad():\n",
    "        for data, target in test_loader:\n",
    "            data, target = data.to(device), target.to(device)\n",
    "            output = model(data)\n",
    "            \n",
    "            test_loss += criterion(output, target).item()  # Sum up batch loss\n",
    "            pred = output.argmax(dim=1)  # Get the index of the max log-probability\n",
    "            correct += pred.eq(target.view_as(pred)).sum().item()\n",
    "\n",
    "    test_loss /= len(test_loader.dataset)\n",
    "    accuracy = correct / len(test_loader.dataset)\n",
    "\n",
    "    print(f'\\nTest set: Average loss: {test_loss:.4f}, Accuracy: {correct}/{len(test_loader.dataset)} ({accuracy * 100:.0f}%)\\n')"
   ]
  },
  {
   "cell_type": "code",
   "execution_count": 11,
   "id": "281b674a-b243-4adb-ba04-ee026935b72c",
   "metadata": {},
   "outputs": [
    {
     "name": "stderr",
     "output_type": "stream",
     "text": [
      "/opt/conda/lib/python3.11/site-packages/torch/nn/functional.py:1374: UserWarning: dropout2d: Received a 2-D input to dropout2d, which is deprecated and will result in an error in a future release. To retain the behavior and silence this warning, please use dropout instead. Note that dropout2d exists to provide channel-wise dropout on inputs with 2 spatial dimensions, a channel dimension, and an optional batch dimension (i.e. 3D or 4D inputs).\n",
      "  warnings.warn(warn_msg)\n"
     ]
    },
    {
     "name": "stdout",
     "output_type": "stream",
     "text": [
      "Train Epoch: 1 [0/60000] Loss: 2.305544\n",
      "Train Epoch: 1 [6400/60000] Loss: 0.545265\n",
      "Train Epoch: 1 [12800/60000] Loss: 0.431535\n",
      "Train Epoch: 1 [19200/60000] Loss: 0.206359\n",
      "Train Epoch: 1 [25600/60000] Loss: 0.530055\n",
      "Train Epoch: 1 [32000/60000] Loss: 0.480695\n",
      "Train Epoch: 1 [38400/60000] Loss: 0.154401\n",
      "Train Epoch: 1 [44800/60000] Loss: 0.328694\n",
      "Train Epoch: 1 [51200/60000] Loss: 0.160593\n",
      "Train Epoch: 1 [57600/60000] Loss: 0.506362\n",
      "\n",
      "Test set: Average loss: 0.0013, Accuracy: 9747/10000 (97%)\n",
      "\n",
      "Train Epoch: 2 [0/60000] Loss: 0.226884\n",
      "Train Epoch: 2 [6400/60000] Loss: 0.192421\n",
      "Train Epoch: 2 [12800/60000] Loss: 0.166387\n",
      "Train Epoch: 2 [19200/60000] Loss: 0.257969\n",
      "Train Epoch: 2 [25600/60000] Loss: 0.257899\n",
      "Train Epoch: 2 [32000/60000] Loss: 0.202125\n",
      "Train Epoch: 2 [38400/60000] Loss: 0.158675\n",
      "Train Epoch: 2 [44800/60000] Loss: 0.155166\n",
      "Train Epoch: 2 [51200/60000] Loss: 0.275503\n",
      "Train Epoch: 2 [57600/60000] Loss: 0.178599\n",
      "\n",
      "Test set: Average loss: 0.0012, Accuracy: 9760/10000 (98%)\n",
      "\n",
      "Train Epoch: 3 [0/60000] Loss: 0.259230\n",
      "Train Epoch: 3 [6400/60000] Loss: 0.472642\n",
      "Train Epoch: 3 [12800/60000] Loss: 0.181489\n",
      "Train Epoch: 3 [19200/60000] Loss: 0.190157\n",
      "Train Epoch: 3 [25600/60000] Loss: 0.235005\n",
      "Train Epoch: 3 [32000/60000] Loss: 0.427394\n",
      "Train Epoch: 3 [38400/60000] Loss: 0.096642\n",
      "Train Epoch: 3 [44800/60000] Loss: 0.037985\n",
      "Train Epoch: 3 [51200/60000] Loss: 0.116498\n",
      "Train Epoch: 3 [57600/60000] Loss: 0.170588\n",
      "\n",
      "Test set: Average loss: 0.0012, Accuracy: 9777/10000 (98%)\n",
      "\n",
      "Train Epoch: 4 [0/60000] Loss: 0.241798\n",
      "Train Epoch: 4 [6400/60000] Loss: 0.265427\n",
      "Train Epoch: 4 [12800/60000] Loss: 0.215976\n",
      "Train Epoch: 4 [19200/60000] Loss: 0.114942\n",
      "Train Epoch: 4 [25600/60000] Loss: 0.446438\n",
      "Train Epoch: 4 [32000/60000] Loss: 0.193771\n",
      "Train Epoch: 4 [38400/60000] Loss: 0.229613\n",
      "Train Epoch: 4 [44800/60000] Loss: 0.272161\n",
      "Train Epoch: 4 [51200/60000] Loss: 0.028959\n",
      "Train Epoch: 4 [57600/60000] Loss: 0.198421\n",
      "\n",
      "Test set: Average loss: 0.0011, Accuracy: 9780/10000 (98%)\n",
      "\n",
      "Train Epoch: 5 [0/60000] Loss: 0.074221\n",
      "Train Epoch: 5 [6400/60000] Loss: 0.194093\n",
      "Train Epoch: 5 [12800/60000] Loss: 0.285330\n",
      "Train Epoch: 5 [19200/60000] Loss: 0.288353\n",
      "Train Epoch: 5 [25600/60000] Loss: 0.357990\n",
      "Train Epoch: 5 [32000/60000] Loss: 0.337681\n",
      "Train Epoch: 5 [38400/60000] Loss: 0.070213\n",
      "Train Epoch: 5 [44800/60000] Loss: 0.158605\n",
      "Train Epoch: 5 [51200/60000] Loss: 0.139373\n",
      "Train Epoch: 5 [57600/60000] Loss: 0.190125\n",
      "\n",
      "Test set: Average loss: 0.0012, Accuracy: 9776/10000 (98%)\n",
      "\n",
      "Train Epoch: 6 [0/60000] Loss: 0.145143\n",
      "Train Epoch: 6 [6400/60000] Loss: 0.098260\n",
      "Train Epoch: 6 [12800/60000] Loss: 0.098596\n",
      "Train Epoch: 6 [19200/60000] Loss: 0.155267\n",
      "Train Epoch: 6 [25600/60000] Loss: 0.111779\n",
      "Train Epoch: 6 [32000/60000] Loss: 0.064236\n",
      "Train Epoch: 6 [38400/60000] Loss: 0.075488\n",
      "Train Epoch: 6 [44800/60000] Loss: 0.102277\n",
      "Train Epoch: 6 [51200/60000] Loss: 0.135504\n",
      "Train Epoch: 6 [57600/60000] Loss: 0.118702\n",
      "\n",
      "Test set: Average loss: 0.0011, Accuracy: 9780/10000 (98%)\n",
      "\n",
      "Train Epoch: 7 [0/60000] Loss: 0.102029\n",
      "Train Epoch: 7 [6400/60000] Loss: 0.255549\n",
      "Train Epoch: 7 [12800/60000] Loss: 0.113807\n",
      "Train Epoch: 7 [19200/60000] Loss: 0.163493\n",
      "Train Epoch: 7 [25600/60000] Loss: 0.179876\n",
      "Train Epoch: 7 [32000/60000] Loss: 0.357710\n",
      "Train Epoch: 7 [38400/60000] Loss: 0.131080\n",
      "Train Epoch: 7 [44800/60000] Loss: 0.212129\n",
      "Train Epoch: 7 [51200/60000] Loss: 0.144867\n",
      "Train Epoch: 7 [57600/60000] Loss: 0.188052\n",
      "\n",
      "Test set: Average loss: 0.0010, Accuracy: 9810/10000 (98%)\n",
      "\n",
      "Train Epoch: 8 [0/60000] Loss: 0.153073\n",
      "Train Epoch: 8 [6400/60000] Loss: 0.219173\n",
      "Train Epoch: 8 [12800/60000] Loss: 0.289335\n",
      "Train Epoch: 8 [19200/60000] Loss: 0.157685\n",
      "Train Epoch: 8 [25600/60000] Loss: 0.321095\n",
      "Train Epoch: 8 [32000/60000] Loss: 0.127900\n",
      "Train Epoch: 8 [38400/60000] Loss: 0.134437\n",
      "Train Epoch: 8 [44800/60000] Loss: 0.549010\n",
      "Train Epoch: 8 [51200/60000] Loss: 0.209285\n",
      "Train Epoch: 8 [57600/60000] Loss: 0.220657\n",
      "\n",
      "Test set: Average loss: 0.0012, Accuracy: 9762/10000 (98%)\n",
      "\n",
      "Train Epoch: 9 [0/60000] Loss: 0.260226\n",
      "Train Epoch: 9 [6400/60000] Loss: 0.496912\n",
      "Train Epoch: 9 [12800/60000] Loss: 0.122414\n",
      "Train Epoch: 9 [19200/60000] Loss: 0.215143\n",
      "Train Epoch: 9 [25600/60000] Loss: 0.076803\n",
      "Train Epoch: 9 [32000/60000] Loss: 0.088221\n",
      "Train Epoch: 9 [38400/60000] Loss: 0.281234\n",
      "Train Epoch: 9 [44800/60000] Loss: 0.240452\n",
      "Train Epoch: 9 [51200/60000] Loss: 0.088135\n",
      "Train Epoch: 9 [57600/60000] Loss: 0.297368\n",
      "\n",
      "Test set: Average loss: 0.0012, Accuracy: 9784/10000 (98%)\n",
      "\n",
      "Train Epoch: 10 [0/60000] Loss: 0.083276\n",
      "Train Epoch: 10 [6400/60000] Loss: 0.262976\n",
      "Train Epoch: 10 [12800/60000] Loss: 0.073616\n",
      "Train Epoch: 10 [19200/60000] Loss: 0.244308\n",
      "Train Epoch: 10 [25600/60000] Loss: 0.138269\n",
      "Train Epoch: 10 [32000/60000] Loss: 0.152216\n",
      "Train Epoch: 10 [38400/60000] Loss: 0.325586\n",
      "Train Epoch: 10 [44800/60000] Loss: 0.555535\n",
      "Train Epoch: 10 [51200/60000] Loss: 0.431512\n",
      "Train Epoch: 10 [57600/60000] Loss: 0.308270\n",
      "\n",
      "Test set: Average loss: 0.0012, Accuracy: 9799/10000 (98%)\n",
      "\n"
     ]
    }
   ],
   "source": [
    "# Run training and testing loops\n",
    "for epoch in range(1, epochs + 1):\n",
    "    train(model, device, train_loader, optimizer, epoch)\n",
    "    test(model, device, test_loader)"
   ]
  },
  {
   "cell_type": "markdown",
   "id": "ed6ed186-f465-4dc1-9fd0-9a985dedf527",
   "metadata": {},
   "source": [
    "확인"
   ]
  },
  {
   "cell_type": "code",
   "execution_count": 13,
   "id": "073d51cf-5ff9-4cfb-a82c-2543ca5d36cb",
   "metadata": {},
   "outputs": [],
   "source": [
    "import random\n",
    "import matplotlib.pyplot as plt"
   ]
  },
  {
   "cell_type": "code",
   "execution_count": 19,
   "id": "6c6e8a44-7cb8-4bed-8368-f4d7e4967879",
   "metadata": {},
   "outputs": [],
   "source": [
    "# Get a random sample from the test set\n",
    "index = random.randint(0, len(test_dataset) - 1)\n",
    "sample_data, sample_target = test_dataset[index]\n",
    "sample_data = sample_data.to(device)"
   ]
  },
  {
   "cell_type": "code",
   "execution_count": 20,
   "id": "cba5705f-3ff1-437c-9789-5f07b95ab839",
   "metadata": {},
   "outputs": [],
   "source": [
    "# Make prediction\n",
    "with torch.no_grad():\n",
    "    output = model(sample_data.unsqueeze(0))  # Add batch dimension\n",
    "    prediction = output.argmax(dim=1).item()"
   ]
  },
  {
   "cell_type": "code",
   "execution_count": 21,
   "id": "92d1aeca-51fc-4c80-93e8-8e6d3f635017",
   "metadata": {},
   "outputs": [
    {
     "data": {
      "image/png": "[encoded data removed]",
      "text/plain": [
       "<Figure size 640x480 with 1 Axes>"
      ]
     },
     "metadata": {},
     "output_type": "display_data"
    }
   ],
   "source": [
    "# Display the result\n",
    "plt.imshow(sample_data.cpu().numpy().squeeze(), cmap='gray')\n",
    "plt.title(f'Actual: {sample_target}, Predicted: {prediction}')\n",
    "plt.show()"
   ]
  },
  {
   "cell_type": "code",
   "execution_count": null,
   "id": "12d1d1a7-846d-43ba-bc8b-50c4933200b5",
   "metadata": {},
   "outputs": [],
   "source": []
  }
 ],
 "metadata": {
  "kernelspec": {
   "display_name": "Python 3 (ipykernel)",
   "language": "python",
   "name": "python3"
  },
  "language_info": {
   "codemirror_mode": {
    "name": "ipython",
    "version": 3
   },
   "file_extension": ".py",
   "mimetype": "text/x-python",
   "name": "python",
   "nbconvert_exporter": "python",
   "pygments_lexer": "ipython3",
   "version": "3.11.10"
  }
 },
 "nbformat": 4,
 "nbformat_minor": 5
}
