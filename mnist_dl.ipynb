{
 "cells": [
  {
   "cell_type": "markdown",
   "id": "6bca74dd",
   "metadata": {},
   "source": [
    "<a href=\"https://colab.research.google.com/github/starcell/sejong-ml/blob/main/mnist_dl.ipynb\" target=\"_parent\"><img src=\"https://colab.research.google.com/assets/colab-badge.svg\" alt=\"Open In Colab\"/></a>"
   ]
  },
  {
   "cell_type": "code",
   "execution_count": null,
   "id": "4394bdd5-58bd-4e24-9c19-02ebe083143c",
   "metadata": {},
   "outputs": [],
   "source": [
    "import torch\n",
    "import torch.nn as nn\n",
    "import torch.nn.functional as F\n",
    "import torch.optim as optim\n",
    "from torchvision import datasets, transforms\n",
    "from torch.utils.data import DataLoader"
   ]
  },
  {
   "cell_type": "code",
   "execution_count": null,
   "id": "83e07cd9-aba1-4767-8a6c-e9f509575bf1",
   "metadata": {},
   "outputs": [],
   "source": [
    "# Check if CUDA is available and set device\n",
    "device = torch.device('cuda' if torch.cuda.is_available() else 'cpu')"
   ]
  },
  {
   "cell_type": "code",
   "execution_count": null,
   "id": "7db275e6-5feb-4601-b5ae-d68b32c6c3a3",
   "metadata": {},
   "outputs": [],
   "source": [
    "# Hyperparameters\n",
    "batch_size = 64\n",
    "learning_rate = 0.01\n",
    "epochs = 10"
   ]
  },
  {
   "cell_type": "code",
   "execution_count": null,
   "id": "fe886e50-58e7-420f-a30f-4e03928b3161",
   "metadata": {},
   "outputs": [],
   "source": [
    "# MNIST dataset\n",
    "train_dataset = datasets.MNIST(root='./data', train=True, transform=transforms.ToTensor(), download=True)\n",
    "test_dataset = datasets.MNIST(root='./data', train=False, transform=transforms.ToTensor())"
   ]
  },
  {
   "cell_type": "code",
   "execution_count": null,
   "id": "9ac1f675-ee98-4785-acaa-c8ae148fbb5a",
   "metadata": {},
   "outputs": [],
   "source": [
    "# Data loaders\n",
    "train_loader = DataLoader(dataset=train_dataset, batch_size=batch_size, shuffle=True)\n",
    "test_loader = DataLoader(dataset=test_dataset, batch_size=batch_size, shuffle=False)"
   ]
  },
  {
   "cell_type": "code",
   "execution_count": null,
   "id": "f82ae099-5aeb-4a46-bc77-2d1c07f66f56",
   "metadata": {},
   "outputs": [],
   "source": [
    "# Define a simple CNN model\n",
    "class Net(nn.Module):\n",
    "    def __init__(self):\n",
    "        super(Net, self).__init__()\n",
    "        self.conv1 = nn.Conv2d(1, 32, kernel_size=3)\n",
    "        self.conv2 = nn.Conv2d(32, 64, kernel_size=3)\n",
    "        self.dropout1 = nn.Dropout2d(0.25)\n",
    "        self.dropout2 = nn.Dropout2d(0.5)\n",
    "        self.fc1 = nn.Linear(9216, 128)\n",
    "        self.fc2 = nn.Linear(128, 10)\n",
    "\n",
    "    def forward(self, x):\n",
    "        x = self.conv1(x)\n",
    "        x = F.relu(x)\n",
    "        x = self.conv2(x)\n",
    "        x = F.relu(x)\n",
    "        x = F.max_pool2d(x, 2)\n",
    "        x = self.dropout1(x)\n",
    "        x = torch.flatten(x, 1)\n",
    "        x = self.fc1(x)\n",
    "        x = F.relu(x)\n",
    "        x = self.dropout2(x)\n",
    "        x = self.fc2(x)\n",
    "        return F.log_softmax(x, dim=1)\n",
    "\n",
    "model = Net().to(device)"
   ]
  },
  {
   "cell_type": "code",
   "execution_count": null,
   "id": "91926d09-cdde-4f5f-9160-b03e391a7b13",
   "metadata": {},
   "outputs": [],
   "source": [
    "# Loss and optimizer\n",
    "criterion = nn.CrossEntropyLoss()\n",
    "optimizer = optim.Adam(model.parameters(), lr=learning_rate)"
   ]
  },
  {
   "cell_type": "code",
   "execution_count": null,
   "id": "71f57816-f69e-447c-b33e-7adf50c4b376",
   "metadata": {},
   "outputs": [],
   "source": [
    "# Training function\n",
    "def train(model, device, train_loader, optimizer, epoch):\n",
    "    model.train()\n",
    "    for batch_idx, (data, target) in enumerate(train_loader):\n",
    "        data, target = data.to(device), target.to(device)\n",
    "        \n",
    "        optimizer.zero_grad()\n",
    "        output = model(data)\n",
    "        \n",
    "        loss = criterion(output, target)\n",
    "        loss.backward()\n",
    "        \n",
    "        optimizer.step()\n",
    "        \n",
    "        if batch_idx % 100 == 0:\n",
    "            print(f'Train Epoch: {epoch} [{batch_idx * len(data)}/{len(train_loader.dataset)}] Loss: {loss.item():.6f}')"
   ]
  },
  {
   "cell_type": "code",
   "execution_count": null,
   "id": "26e73269-deab-48ea-a511-1648d447097c",
   "metadata": {},
   "outputs": [],
   "source": [
    "# Testing function\n",
    "def test(model, device, test_loader):\n",
    "    model.eval()\n",
    "    test_loss = 0\n",
    "    correct = 0\n",
    "    \n",
    "    with torch.no_grad():\n",
    "        for data, target in test_loader:\n",
    "            data, target = data.to(device), target.to(device)\n",
    "            output = model(data)\n",
    "            \n",
    "            test_loss += criterion(output, target).item()  # Sum up batch loss\n",
    "            pred = output.argmax(dim=1)  # Get the index of the max log-probability\n",
    "            correct += pred.eq(target.view_as(pred)).sum().item()\n",
    "\n",
    "    test_loss /= len(test_loader.dataset)\n",
    "    accuracy = correct / len(test_loader.dataset)\n",
    "\n",
    "    print(f'\\nTest set: Average loss: {test_loss:.4f}, Accuracy: {correct}/{len(test_loader.dataset)} ({accuracy * 100:.0f}%)\\n')"
   ]
  },
  {
   "cell_type": "code",
   "execution_count": null,
   "id": "281b674a-b243-4adb-ba04-ee026935b72c",
   "metadata": {},
   "outputs": [],
   "source": [
    "# Run training and testing loops\n",
    "for epoch in range(1, epochs + 1):\n",
    "    train(model, device, train_loader, optimizer, epoch)\n",
    "    test(model, device, test_loader)"
   ]
  },
  {
   "cell_type": "markdown",
   "id": "ed6ed186-f465-4dc1-9fd0-9a985dedf527",
   "metadata": {},
   "source": [
    "확인"
   ]
  },
  {
   "cell_type": "code",
   "execution_count": null,
   "id": "073d51cf-5ff9-4cfb-a82c-2543ca5d36cb",
   "metadata": {},
   "outputs": [],
   "source": [
    "import random\n",
    "import matplotlib.pyplot as plt"
   ]
  },
  {
   "cell_type": "code",
   "execution_count": null,
   "id": "6c6e8a44-7cb8-4bed-8368-f4d7e4967879",
   "metadata": {},
   "outputs": [],
   "source": [
    "# Get a random sample from the test set\n",
    "index = random.randint(0, len(test_dataset) - 1)\n",
    "sample_data, sample_target = test_dataset[index]\n",
    "sample_data = sample_data.to(device)"
   ]
  },
  {
   "cell_type": "code",
   "execution_count": null,
   "id": "cba5705f-3ff1-437c-9789-5f07b95ab839",
   "metadata": {},
   "outputs": [],
   "source": [
    "# Make prediction\n",
    "with torch.no_grad():\n",
    "    output = model(sample_data.unsqueeze(0))  # Add batch dimension\n",
    "    prediction = output.argmax(dim=1).item()"
   ]
  },
  {
   "cell_type": "code",
   "execution_count": null,
   "id": "92d1aeca-51fc-4c80-93e8-8e6d3f635017",
   "metadata": {},
   "outputs": [],
   "source": [
    "# Display the result\n",
    "plt.imshow(sample_data.cpu().numpy().squeeze(), cmap='gray')\n",
    "plt.title(f'Actual: {sample_target}, Predicted: {prediction}')\n",
    "plt.show()"
   ]
  },
  {
   "cell_type": "code",
   "execution_count": null,
   "id": "12d1d1a7-846d-43ba-bc8b-50c4933200b5",
   "metadata": {},
   "outputs": [],
   "source": [
    "test_batch_size = 10000\n",
    "test_loader = torch.utils.data.DataLoader(\n",
    "  test_dataset,  batch_size=test_batch_size, shuffle=False)"
   ]
  },
  {
   "cell_type": "code",
   "execution_count": null,
   "id": "b71eb42e",
   "metadata": {},
   "outputs": [],
   "source": [
    "examples = enumerate(test_loader)\n",
    "batch_idx, (example_data, example_targets) = next(examples)"
   ]
  },
  {
   "cell_type": "code",
   "execution_count": null,
   "id": "8a4eb4b3",
   "metadata": {},
   "outputs": [],
   "source": [
    "with torch.no_grad():\n",
    "  output = model(example_data.to(device))"
   ]
  },
  {
   "cell_type": "code",
   "execution_count": null,
   "id": "212d5ed2",
   "metadata": {},
   "outputs": [],
   "source": [
    "# fig = plt.figure()\n",
    "for i in range(6):\n",
    "  plt.subplot(2,3,i+1)\n",
    "  plt.tight_layout()\n",
    "  plt.imshow(example_data[i][0], cmap='gray', interpolation='none')\n",
    "  plt.title(\"Prediction: {}\".format(\n",
    "    output.data.max(1, keepdim=True)[1][i].item()))\n",
    "  plt.xticks([])\n",
    "  plt.yticks([])\n",
    "# fig"
   ]
  },
  {
   "cell_type": "code",
   "execution_count": null,
   "id": "ff097104",
   "metadata": {},
   "outputs": [],
   "source": [
    "predictions = output.data.max(1, keepdim=True)[1] # [0].item()"
   ]
  },
  {
   "cell_type": "code",
   "execution_count": null,
   "id": "de2678d7",
   "metadata": {},
   "outputs": [],
   "source": [
    "predictions.size()"
   ]
  },
  {
   "cell_type": "code",
   "execution_count": null,
   "id": "68bcd4c8",
   "metadata": {},
   "outputs": [],
   "source": [
    "predictions.size()[0]"
   ]
  },
  {
   "cell_type": "code",
   "execution_count": null,
   "id": "763f20fc",
   "metadata": {},
   "outputs": [],
   "source": [
    "predictions[0].item()"
   ]
  },
  {
   "cell_type": "code",
   "execution_count": null,
   "id": "8946e7c1",
   "metadata": {},
   "outputs": [],
   "source": [
    "test_dataset.targets[0].item()"
   ]
  },
  {
   "cell_type": "code",
   "execution_count": null,
   "id": "04719bbd",
   "metadata": {},
   "outputs": [],
   "source": [
    "wrong_predicts = []\n",
    "for i in range(predictions.size()[0]):\n",
    "    if not predictions[i].item() == test_dataset.targets[i].item():\n",
    "        wrong_predicts.append(i)"
   ]
  },
  {
   "cell_type": "code",
   "execution_count": null,
   "id": "d72fef76",
   "metadata": {},
   "outputs": [],
   "source": [
    "len(wrong_predicts)"
   ]
  },
  {
   "cell_type": "code",
   "execution_count": null,
   "id": "3528d58f",
   "metadata": {},
   "outputs": [],
   "source": [
    "# wrong_predicts\n",
    "\n",
    "for i in range(6):\n",
    "  id = wrong_predicts[i]\n",
    "  plt.subplot(2,3,i+1)\n",
    "  plt.tight_layout()\n",
    "  plt.imshow(example_data[id][0], cmap='gray', interpolation='none')\n",
    "  plt.title(\"GT: {}, Pred: {} \".format(\n",
    "    test_dataset.targets[id],\n",
    "    output.data.max(1, keepdim=True)[1][id].item()))\n",
    "  plt.xticks([])\n",
    "  plt.yticks([])"
   ]
  },
  {
   "cell_type": "code",
   "execution_count": null,
   "id": "2e2592f9",
   "metadata": {},
   "outputs": [],
   "source": []
  }
 ],
 "metadata": {
  "kernelspec": {
   "display_name": "Python 3 (ipykernel)",
   "language": "python",
   "name": "python3"
  },
  "language_info": {
   "codemirror_mode": {
    "name": "ipython",
    "version": 3
   },
   "file_extension": ".py",
   "mimetype": "text/x-python",
   "name": "python",
   "nbconvert_exporter": "python",
   "pygments_lexer": "ipython3",
   "version": "3.11.10"
  }
 },
 "nbformat": 4,
 "nbformat_minor": 5
}
