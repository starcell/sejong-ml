{
 "cells": [
  {
   "cell_type": "markdown",
   "id": "39090c6d",
   "metadata": {},
   "source": [
    "<a href=\"https://colab.research.google.com/github/starcell/sejong-ml/blob/main/python4ml-1.ipynb\" target=\"_parent\"><img src=\"https://colab.research.google.com/assets/colab-badge.svg\" alt=\"Open In Colab\"/></a>"
   ]
  },
  {
   "cell_type": "markdown",
   "id": "right-passion",
   "metadata": {},
   "source": [
    "# 머신러닝을 위한 파이썬 기초 1\n",
    "(주)스타셀 Starcell Inc.  \n",
    "이 문서의 모든 내용은 (주)스타셀에서 작성한 것이며, 모든 저작권은 (주)스타셀에 있습니다.  \n",
    "이 문서를 다운로드 받아서 본인이 사용하는 것은 허용되며, 그 외에 저작권자의 허락없이 복제 및 유포하시면 안됩니다."
   ]
  },
  {
   "cell_type": "markdown",
   "id": "authorized-seattle",
   "metadata": {},
   "source": [
    "딥러닝은 소프트웨어를 만드는 방식입니다. 그래서 딥러닝을 이해한다는 것은 딥러닝 방법을 응용하여 원하는 소프트웨어를 개발한다는 의미입니다. 소프트웨어를 개발할 때는 프로그래밍 언어를 이용합니다. 세상에는 아주 많은 프로그래밍 언어들이 있습니다. 그 중에서 파이썬은 딥러닝과 인공지능 분야에서 가장 많이 사용되는 언어입니다.  \n",
    "그래서 딥러닝을 배우기 위해서는 파이썬 언어를 사용할 줄 알아야 합니다. 본 과정에서는 프로그래밍이 익숙하지 않은 사람들을 대상으로 인공지능이나 딥러닝을 배우는데 도움이 될 수 있도록 파이썬 언어에 대한 기초적인 내용을 다룹니다. 기본 개념과 용어에 대한 설명과 함께 직접 실행할 수 있는 코드가 있으니 차근 차근 내용을 보면서 코드를 실행해 보면 어렵지 않게 과정을 끝낼 수 있습니다."
   ]
  },
  {
   "cell_type": "markdown",
   "id": "actual-awareness",
   "metadata": {},
   "source": [
    "## 코딩의 시작\n",
    "### hello world 출력하기\n",
    "대부분의 프로그래밍 언어를 배울 때 시작하는 과제가 hello world를 출력하는 것입니다. 파이썬에서는 다음과 같은 명령문을 사용하면 됩니다."
   ]
  },
  {
   "cell_type": "code",
   "execution_count": 1,
   "id": "industrial-nightmare",
   "metadata": {},
   "outputs": [
    {
     "name": "stdout",
     "output_type": "stream",
     "text": [
      "hello world!\n"
     ]
    }
   ],
   "source": [
    "print('hello world!')"
   ]
  },
  {
   "cell_type": "markdown",
   "id": "enormous-sitting",
   "metadata": {},
   "source": [
    "이렇게 print()라는 함수를 사용하면 괄호 않의 문자열을 출력할 수 있습니다. 이 한 줄이 코딩의 시작입니다."
   ]
  },
  {
   "cell_type": "markdown",
   "id": "external-artwork",
   "metadata": {},
   "source": [
    "## 파이썬 기본 \n",
    "### 사칙연산\n",
    "파이썬을 이용하여 더하기 빼기 곱하기 나누기를 해보겠습니다."
   ]
  },
  {
   "cell_type": "code",
   "execution_count": 2,
   "id": "short-comedy",
   "metadata": {},
   "outputs": [
    {
     "data": {
      "text/plain": [
       "2"
      ]
     },
     "execution_count": 2,
     "metadata": {},
     "output_type": "execute_result"
    }
   ],
   "source": [
    "1 + 1"
   ]
  },
  {
   "cell_type": "code",
   "execution_count": null,
   "id": "cooperative-greek",
   "metadata": {},
   "outputs": [],
   "source": [
    "2 - 1"
   ]
  },
  {
   "cell_type": "code",
   "execution_count": null,
   "id": "rapid-olympus",
   "metadata": {},
   "outputs": [],
   "source": [
    "# 파이썬에서 곱하기는 * 로 표현합니다.\n",
    "# (샵)으로 시작하는 문장은 컴퓨터가 무시합니다. 사람을 위한 설명을 쓸 때 사용합니다. \n",
    "# 이렇게 컴퓨터를 위한 코드로는 기능하지 않고 사람을 위한 설명에 쓰이는 문장을 주석 또는 코멘트라고 합니다.\n",
    "\n",
    "2 * 3"
   ]
  },
  {
   "cell_type": "code",
   "execution_count": 3,
   "id": "speaking-peoples",
   "metadata": {},
   "outputs": [
    {
     "data": {
      "text/plain": [
       "2.0"
      ]
     },
     "execution_count": 3,
     "metadata": {},
     "output_type": "execute_result"
    }
   ],
   "source": [
    "# 파이썬에서 나누기는 / 로 표현합니다.\n",
    "\n",
    "6 / 3"
   ]
  },
  {
   "cell_type": "markdown",
   "id": "animal-external",
   "metadata": {},
   "source": [
    "## 코딩다운 코딩을 위한 시작\n",
    "### 변수(variable)\n",
    "변수는 값을 저장하는 이름입니다. 아래와 같이 = 기호를 써서 왼쪽의 변수에 오른쪽의 값을 저장할 수 있습니다.\n",
    "```\n",
    "a = 9\n",
    "```\n",
    "print()문을 써서 값을 확인할 수 있습니다.\n",
    "대부분의 프로그래밍 언어에서 = 기호는 같다는 의미가 아닙니다. = 기호 외쪽에 있는 변수에 오른쪽에 있는 값을 저장하라는 의미입니다. 보통 같다는 의미의 기호는 == 또는 === 기호를 사용합니다."
   ]
  },
  {
   "cell_type": "code",
   "execution_count": 5,
   "id": "brutal-secret",
   "metadata": {},
   "outputs": [],
   "source": [
    "a = 9"
   ]
  },
  {
   "cell_type": "code",
   "execution_count": 6,
   "id": "fifteen-receiver",
   "metadata": {},
   "outputs": [
    {
     "name": "stdout",
     "output_type": "stream",
     "text": [
      "9\n"
     ]
    }
   ],
   "source": [
    "print(a)"
   ]
  },
  {
   "cell_type": "markdown",
   "id": "lucky-destruction",
   "metadata": {},
   "source": [
    "위 구문에서 a는 변수의 이름으로 사용되었습니다. 그냥 a라는 글자를 출력하려면 따옴표로 묶어야 합니다."
   ]
  },
  {
   "cell_type": "code",
   "execution_count": 7,
   "id": "sticky-geology",
   "metadata": {},
   "outputs": [
    {
     "name": "stdout",
     "output_type": "stream",
     "text": [
      "a\n"
     ]
    }
   ],
   "source": [
    "print('a')"
   ]
  },
  {
   "cell_type": "markdown",
   "id": "corrected-bidding",
   "metadata": {},
   "source": [
    "변수를 사용하는 이유는 복잡한 프로그램을 단순하고 쉽게 사용하기 위해서입니다. 다음과 같은 도형의 면적을 구하는 코드를 예로 들어 보겠습니다.  \n",
    "\n",
    "* 사각형(가로 width, 세로 : height)의 면적 : 가로 x 세로\n",
    "* 삼각형(밑변의 길이 base, 높이 : height)의 면적 : ( 밑변의 길이 x 높이 ) / 2\n",
    "* 원(반지름 radius)의 면적 : 반지름의 제곱 x 파이\n",
    "\n",
    "다음과 같은 도형들이 있을 때 전체 면적의 합을 구하는 코드를 작성해 보겠습니다.\n",
    "\n",
    "* 가로 세로가 3과 4인 사각형\n",
    "* 밑변의 길이가 4이고 높이가 5인 삼각형\n",
    "* 반지름이 6인 원\n"
   ]
  },
  {
   "cell_type": "code",
   "execution_count": null,
   "id": "wooden-fetish",
   "metadata": {},
   "outputs": [],
   "source": [
    "# 변수를 사용하지 않고 코딩을 하면 아래와 같이 할 수 있습니다.\n",
    "# 6의 제곱은 6**2로 표현합니다. **은 지수를 나타냅니다. 만약 2의 3승을 계산하려면 2**3으로 표현하면 됩니다.\n",
    "\n",
    "(3 * 4) + ((4 * 5)/2) + (3.14 * (6**2))"
   ]
  },
  {
   "cell_type": "markdown",
   "id": "bacterial-equality",
   "metadata": {},
   "source": [
    "다음과 같이 크기가 다른 도형들의 면적의 합을 구해야 한다면 어떻게 할까요?\n",
    "\n",
    "* 가로 세로가 4와 5인 사각형\n",
    "* 밑변의 길이가 5이고 높이가 6인 삼각형\n",
    "* 반지름이 7인 원"
   ]
  },
  {
   "cell_type": "code",
   "execution_count": null,
   "id": "sacred-toronto",
   "metadata": {},
   "outputs": [],
   "source": [
    "(4 * 5) + ((5 * 6)/2) + (3.14 * (7**2))"
   ]
  },
  {
   "cell_type": "markdown",
   "id": "attended-daughter",
   "metadata": {},
   "source": [
    "위의 식을 변수를 사용하여 다시 코딩해 보면 다음과 같습니다."
   ]
  },
  {
   "cell_type": "code",
   "execution_count": null,
   "id": "focused-specification",
   "metadata": {},
   "outputs": [],
   "source": [
    "# 사각형의 높이와 넓이\n",
    "rec_w = 3\n",
    "rec_h = 4\n",
    "# 사각형의 면적\n",
    "rec_area = rec_w * rec_h\n",
    "print(rec_area)\n",
    "\n",
    "# 삼각형의 밑변의 길이와 높이\n",
    "tri_b = 4\n",
    "tri_h = 5\n",
    "# 삼각형의 면적\n",
    "tri_area = tri_b * tri_h / 2\n",
    "print(tri_area)\n",
    "\n",
    "# 원의 반지름\n",
    "cir_r = 6\n",
    "# 원의 면적\n",
    "cir_area = 3.14 * (cir_r**2)\n",
    "print(cir_area)\n",
    "\n",
    "# 도형들의 면적의 합\n",
    "rec_area + tri_area + cir_area"
   ]
  },
  {
   "cell_type": "markdown",
   "id": "sized-massage",
   "metadata": {},
   "source": [
    "다른 크기의 도형들의 면적의 합을 계산할 때는 앞에서 변수에 저장된 값들만 변경해 주면 됩니다.\n",
    "이렇게 변수를 사용하는 것이 많은 장점이 있습니다. 컴퓨터 프로그램은 많은 유사한 계산들을 반복적으로 실행하므로, 코드에서 이들을 얼마나 효율적으로 사용하느냐가 중요합니다. 그리고 코드는 사람들이 쉽게 이해하고 수정할 수 있어야 합니다. 변수를 적절히 사용하는 것이 좋은 코딩을 하는 시작입니다.  \n",
    "한가지 예제 코딩을 더 해보겠습니다. 비만은 건강의 적이라고 합니다. 비만에 대해 표준적으로 판단하기 위한, 다음과 같은 비만도 공식이 있습니다.\n",
    "\n",
    "```\n",
    "BMI지수 = 몸무게(Kg) / (신장(m)의 제곱)\n",
    "```\n",
    "\n",
    "BMI 지수는 체질량지수(Body Mass Index)라고 하는 값입니다. 다음은 대한비만학회의 비만도 기준입니다.\n",
    "(https://ko.wikipedia.org/wiki/%EC%B2%B4%EC%A7%88%EB%9F%89_%EC%A7%80%EC%88%98)  \n",
    "\n",
    "\n",
    "* 고도 비만 : 35 이상\n",
    "* 중(重)도 비만 (2단계 비만) : 30 - 34.9\n",
    "* 경도 비만 (1단계 비만) : 25 - 29.9\n",
    "* 과체중 : 23 - 24.9\n",
    "* 정상 : 18.5 - 22.9\n",
    "* 저체중 : 18.5 미만\n",
    "\n",
    "물론 이 기준은 논란이 있고 부정확한 기준이라는 이야기가 있으니 참고만 하시고 프로그램을하는 예제로서만 봐 주시기를 바랍니다."
   ]
  },
  {
   "cell_type": "code",
   "execution_count": null,
   "id": "abroad-tournament",
   "metadata": {},
   "outputs": [],
   "source": [
    "# 몸무게 : Kg\n",
    "w = 50\n",
    "# 키 : cm\n",
    "h = 182\n",
    "\n",
    "#키를 m로 변환\n",
    "h_m = h / 100\n",
    "\n",
    "bmi = w / h_m**2\n",
    "\n",
    "print(bmi)"
   ]
  },
  {
   "cell_type": "markdown",
   "id": "exciting-coffee",
   "metadata": {},
   "source": [
    "미리 진도를 조금만 더 나가 보겠습니다. 자세한 내용은 나중에 다룰 예정이니 대략적으로만 보셔도 됩니다.  \n",
    "위의 계산을 기준과 비교하여 비만단계로 출력하도록 해보겠습니다.  \n",
    "* 파이썬에서는 ***들여쓰기***가 매우 중요합니다. 아래와 같이 들여쓰기를 꼭 지켜 주셔야 합니다."
   ]
  },
  {
   "cell_type": "code",
   "execution_count": null,
   "id": "otherwise-receiver",
   "metadata": {},
   "outputs": [],
   "source": [
    "if 35 <= bmi:\n",
    "    print('당신의 비만도는 고도비만입니다. 건강을 위해 매우 많이 노력해 주세요!')\n",
    "elif 30 <= bmi and bmi < 35:\n",
    "    print('당신의 비만도는 2단계 비만입니다. 건강을 위해 많이 노력해 주세요!')\n",
    "elif 25 <= bmi and bmi < 30:\n",
    "    print('당신의 비만도는 1단계 비만입니다. 건강을 위해 노력해 주세요!')\n",
    "elif 23 <= bmi and bmi < 25:\n",
    "    print('당신의 비만도는 과체중입니다. 건강을 위해 조금 노력이 필요합니다!')\n",
    "elif 18.5 <= bmi and bmi < 23:\n",
    "    print('당신의 비만도는 정상입니다. 지금과 같은 생활을 유지해 주세요!')\n",
    "elif bmi < 18.5:\n",
    "    print('당신의 비만도는 저체중입니다. 조금은 체중 증가가 필요합니다.')"
   ]
  },
  {
   "cell_type": "markdown",
   "id": "advised-medline",
   "metadata": {},
   "source": [
    "변수를 사용하면 위와 같은 방식으로 프로그램답게 처리하기가 쉽습니다. 조건문을 사용하는 방법에 대해서는 나중에 다시 알아보겠습니다."
   ]
  },
  {
   "cell_type": "markdown",
   "id": "bibliographic-story",
   "metadata": {},
   "source": [
    "## 데이터 타입(Data type)\n",
    "\n",
    "컴퓨터가 데이터를 처리하고 계산하는 방식은 사람의 방식과 많이 다릅니다. 사람은 데이터의 타입이라는 개념이 필요하지 않습니다. 하지만 컴퓨터에서는 그렇지 않습니다. 데이터의 종류에 따라 저장방법과 처리방법이 다르기 때문에 미리 어떠한 타입의 데이터인지 정해 놓고 처리합니다. 파이썬에서는 많은 부분을 자동으로 알아서 해 주기 때문에 코딩에서 까다로운 부분은 많지 않습니다. 하지만 코딩을 하기 위해서는 데이터 타입에 대해 명확하게 이해를 해야합니다. \n",
    "우선 쉬운 내용부터 조금씩 알아보겠습니다.\n",
    "\n",
    "### 숫자의 데이터 타입\n",
    "보통 숫자라고 하는 값은 순서와 크기의 개념이 있습니다. 예를 들어보면 500은 300보다 크다고 할 수 있습니다. 그리고 1은 2보다 앞에 온다고 할 수 있습니다. 이러한 데이터는 컴퓨터에서도 숫자로 처리해야 합니다. 하지만 010-1234-5678이라는 전화번호를 01012345678이라고 쓸수도 있습니다. 하나하나는 아라비아숫자로 표시되었지만 보통의 숫자와 같은 크기 개념이 있다고 보기는 어렵습니다. 이런 값은 보통 문자열이라는 데이터타입으로 처리합니다. 파이썬에서 사용하는 숫자의 데이터 타입은 숫자형(Number)이라고 하며 다음과 같은 세가지 종류가 있습니다. \n",
    "\n",
    "* int : 정수(Integer)\n",
    "* float : 부동소수점(Floating Point), 실수형\n",
    "* complex : 복소수(Complex Number)\n",
    "\n",
    "이 중에서 많이 사용되는 \"정수형\"과 \"부동소수점 또는 실수형\"에 대하여 알아보겠습니다. 정수형은 보통 생각하는 정수와 같습니다. -1, 0, 1 처럼 1씩 떨어진 값을 갖으며 +와 -부호를 갖습니다. 부동소수점은 소수점을 사용한 수입니다. 정수 외에 거의 모든 실수를 표현한다고 생각하면 됩니다. 부동소수점이라는 말의 의미는 떠다니는 소수점이라는 뜻입니다. 부(浮)는 부유물, 부표에서 사용되는 것과 같이 뜬다는 의미입니다. 소수점이 떠다닌다는 말을 쓰는 이유는 소수점의 위치를 바꾸면서도 같은 값을 표현할 수 있기 때문입니다. 아래의 값들은 모두 같은 값입니다.\n",
    "\n",
    "```\n",
    "3.14\n",
    "0.314 x 10\n",
    "0.0314 x 100\n",
    "```\n",
    "이렇게 10의 배수를 어떻게 곱하느냐에 따라 소수점의 위치는 얼마든지 변동이되어도 동일한 값을 표현할 수 있습니다. 그래서 부동소수점이라는 말을 쓰게되었습니다. 실제 컴퓨터에서는 이러한 원리를 이용하여 정수외의 모든 실수 값을 저장하고 처리합니다.  \n",
    "\n",
    "먼저 데이터의 타입을 확인해 보겠습니다. 파이썬에서는 type()이라는 함수가 있습니다. 이 함수는 데이터의 타입을 알려줍니다."
   ]
  },
  {
   "cell_type": "code",
   "execution_count": null,
   "id": "presidential-animal",
   "metadata": {},
   "outputs": [],
   "source": [
    "type(1)"
   ]
  },
  {
   "cell_type": "code",
   "execution_count": null,
   "id": "regional-filter",
   "metadata": {},
   "outputs": [],
   "source": [
    "type(1.0)"
   ]
  },
  {
   "cell_type": "code",
   "execution_count": null,
   "id": "scenic-contrary",
   "metadata": {},
   "outputs": [],
   "source": [
    "i = 2\n",
    "type(i)"
   ]
  },
  {
   "cell_type": "code",
   "execution_count": null,
   "id": "christian-wright",
   "metadata": {},
   "outputs": [],
   "source": [
    "f = 2.0\n",
    "type(f)"
   ]
  },
  {
   "cell_type": "code",
   "execution_count": null,
   "id": "swiss-measurement",
   "metadata": {},
   "outputs": [],
   "source": [
    "type('1')"
   ]
  },
  {
   "cell_type": "code",
   "execution_count": null,
   "id": "uniform-temperature",
   "metadata": {},
   "outputs": [],
   "source": [
    "type(\"1\")"
   ]
  },
  {
   "cell_type": "markdown",
   "id": "endless-prototype",
   "metadata": {},
   "source": [
    "1과 1.0이 같은 값을 갖는 숫자이지만 타입이 다른 것을 알 수 있습니다. 따옴표로 묶인 값은 모두 str으로 표시되는 문자열 타입입니다. 컴퓨터에서는 타입에 따라 처리하는 방식이 다르다고 했습니다. 대부분의 경우 같은 타입의 데이터가 아니면 연산이나 처리가 되지 않습니다. 하지만 파이썬의 경우 타입에 따른 문제를 자동으로 알아서 처리해 주는 경우가 많습니다. 하지만 항상 그런 것은 아니기 때문에 데이터의 타입을 알고 적절히 처리해 주어야 합니다. 타입이 자동으로 변환되는 경우와 타입에 따라 처리가 되지 않는 경우를 보겠습니다."
   ]
  },
  {
   "cell_type": "code",
   "execution_count": null,
   "id": "supreme-neutral",
   "metadata": {},
   "outputs": [],
   "source": [
    "# 정수 + 부동소수점 -> 부동소수점\n",
    "type(1 + 1.0)"
   ]
  },
  {
   "cell_type": "code",
   "execution_count": null,
   "id": "disabled-closure",
   "metadata": {},
   "outputs": [],
   "source": [
    "# 정수 나누기 정수 -> 부동소수점\n",
    "type(5/2)"
   ]
  },
  {
   "cell_type": "code",
   "execution_count": null,
   "id": "cathedral-algebra",
   "metadata": {},
   "outputs": [],
   "source": [
    "'4' / 2"
   ]
  },
  {
   "cell_type": "markdown",
   "id": "radical-degree",
   "metadata": {},
   "source": [
    "위의 예를 보면 정수와 부동소수점간에는 자동으로 타입이 변환되는 것을 볼 수 있습니다. 하지만 문자열타입의 4를 숫자로 나누려고 하면 오류가 발생하는 것을 볼 수 있습니다. 에러 메시지의 의미는 문자열(str)과 정수형(int)형 데이터 사이에 연사자 \"/\"(나누기)를 사용할 수 없다는 의미입니다. 아럴때 다음과 같이 강제로 타입을 바꾸어서 처리할 수 있습니다. 타입을 바꾸는 방법을 타입 캐스팅(Casting)이라고도 합니다."
   ]
  },
  {
   "cell_type": "code",
   "execution_count": null,
   "id": "ethical-candle",
   "metadata": {},
   "outputs": [],
   "source": [
    "int('4') / 2"
   ]
  },
  {
   "cell_type": "markdown",
   "id": "seasonal-winning",
   "metadata": {},
   "source": [
    "## 제어구조\n",
    "위에서 프로그래밍에서 필요한 기본적인 내용들을 보았습니다. 본격적인 프로그램을 할 수 있는 제어구조를 알아보겠습니다. 제어구조는 경우에 따라 처리 방법을 반복하거나 분기하는 식으로 효과적으로 데이터를 처리하기 위한 프로그램의 구조입니다. 짧은 코드를 가지고 많은 계산과 처리를 효과적으로 하기 위해서는 잘 짜여진 제어구조가 필요합니다. 제어구조의 기본은 반복문과 조건문입니다.\n",
    "### 프로그래밍의 참맛 : 반복문(Loop)\n",
    "컴퓨터를 사용하는 가장 큰 이유는 단순한 계산을 반복적으로 빠르게 처리할 수 있기때문입니다. 특히 반복의 회수가 큰 경우 반복문을 사용하지 않고는 계산이 거의 불가능합니다. \n",
    "파이썬의 대표적인 반복문은 for와 while입니다. for 구문부터 먼저 보겠습니다.\n",
    "\n",
    "```\n",
    "for 변수 in 변수목록 :\n",
    "  실행할 명령들\n",
    "  ...\n",
    "```\n",
    "예를 들어보겠습니다. 우선 range()라는 명령어(함수)를 사용하는 것이 좋을 것같아서 range() 명령어에 대해 간단히 설명하겠습니다. 다음과 같이 range(10)라고 쓰면 0부터 9까지의 정수 목록을 반환을 합니다. list라는 타입으로 변환해서 보면 내용을 목록으로 볼 수 있습니다.  \n",
    "함수와 list타입에 대해서는 나중에 자세히 알아보겠습니다."
   ]
  },
  {
   "cell_type": "code",
   "execution_count": 8,
   "id": "latin-tamil",
   "metadata": {},
   "outputs": [],
   "source": [
    "b = range(10)"
   ]
  },
  {
   "cell_type": "code",
   "execution_count": 9,
   "id": "fluid-implementation",
   "metadata": {},
   "outputs": [
    {
     "data": {
      "text/plain": [
       "range(0, 10)"
      ]
     },
     "execution_count": 9,
     "metadata": {},
     "output_type": "execute_result"
    }
   ],
   "source": [
    "b"
   ]
  },
  {
   "cell_type": "code",
   "execution_count": 10,
   "id": "antique-batch",
   "metadata": {},
   "outputs": [
    {
     "data": {
      "text/plain": [
       "[0, 1, 2, 3, 4, 5, 6, 7, 8, 9]"
      ]
     },
     "execution_count": 10,
     "metadata": {},
     "output_type": "execute_result"
    }
   ],
   "source": [
    "list(range(10))"
   ]
  },
  {
   "cell_type": "code",
   "execution_count": 11,
   "id": "tight-safety",
   "metadata": {},
   "outputs": [
    {
     "name": "stdout",
     "output_type": "stream",
     "text": [
      "1\n",
      "2\n",
      "3\n",
      "4\n",
      "5\n",
      "6\n",
      "7\n",
      "8\n",
      "9\n"
     ]
    }
   ],
   "source": [
    "for i in range(1, 10):\n",
    "    print(i)"
   ]
  },
  {
   "cell_type": "markdown",
   "id": "later-wonder",
   "metadata": {},
   "source": [
    "1부터 5까지 더하는 프로그램은 다음과 같이 짤 수 있습니다."
   ]
  },
  {
   "cell_type": "code",
   "execution_count": null,
   "id": "noticed-theme",
   "metadata": {},
   "outputs": [],
   "source": [
    "1 + 2 + 3 + 4 + 5"
   ]
  },
  {
   "cell_type": "markdown",
   "id": "outer-williams",
   "metadata": {},
   "source": [
    "for 문을 이용하면 다음과 같이 짤 수 있습니다."
   ]
  },
  {
   "cell_type": "code",
   "execution_count": null,
   "id": "committed-construction",
   "metadata": {},
   "outputs": [],
   "source": [
    "sum = 0\n",
    "for i in range(1, 101):\n",
    "    sum = sum + i\n",
    "    # print(sum)\n",
    "print('final : ', sum)"
   ]
  },
  {
   "cell_type": "markdown",
   "id": "formed-drill",
   "metadata": {},
   "source": [
    "만약에 10000까지의 합을 구해야 하는 경우에는 어떻게 할까요? 위에서와 같이 for문을 사용하지 않는 다면 코드를 입력하는 작업도 거의 불가능할 것입니다. 하지만 for문을 사용하면 아래와 같이 범위의 숫자만 6에서 10001(10000 + 1)로 바꾸어 주면 간단히 됩니다."
   ]
  },
  {
   "cell_type": "code",
   "execution_count": null,
   "id": "surface-connecticut",
   "metadata": {},
   "outputs": [],
   "source": [
    "sum = 0\n",
    "for i in range(10001):\n",
    "    sum = sum + i\n",
    "print(sum)"
   ]
  },
  {
   "cell_type": "markdown",
   "id": "headed-remark",
   "metadata": {},
   "source": [
    "while문은 주어진 조건이 참인 동안 명령들을 반복적으로 실행하는 반복문입니다. 문법은 다음과 같습니다.\n",
    "```\n",
    "while 조건(불타입):\n",
    "    실행할 명령들\n",
    "    ...\n",
    "```\n",
    "* 불타입은 참/거짓 둘 중 하나의 값을 갖는 데이터 타입입니다.(바로 아래에서 설명됩니다.)  \n",
    "\n",
    "다음은 while문의 기본 사용예와 앞에서 합을 구하는 for문을 while문으로 변경한 것입니다."
   ]
  },
  {
   "cell_type": "code",
   "execution_count": null,
   "id": "architectural-easter",
   "metadata": {},
   "outputs": [],
   "source": [
    "i = 0\n",
    "while i < 10:\n",
    "    print(i)\n",
    "    i = i + 1"
   ]
  },
  {
   "cell_type": "code",
   "execution_count": null,
   "id": "seventh-scanning",
   "metadata": {},
   "outputs": [],
   "source": [
    "sum = 0\n",
    "j = 0\n",
    "while j < 10001:\n",
    "    sum = sum + j\n",
    "    j = j + 1\n",
    "print(sum)"
   ]
  },
  {
   "cell_type": "markdown",
   "id": "soviet-portrait",
   "metadata": {},
   "source": [
    "### 경우에 따라 처리를 해야 한다. : 조건문\n",
    "조건문을 알아 보겠습니다. 조건문을 하기 전에 \"참(True)\"과 \"거짓(False)\"에 대해 알아야 합니다. 모든 수학적인 명제는 \"참\"과 \"거짓\"으로 구별할 수 있어야 합니다. 코딩에서도 명확하게 \"참\"과 \"거짓\"으로 나눌 수 있어야 정확한 프로그램을 만들 수 있습니다. \"참\"과 \"거짓\" 두 개의 데이터를 갖는 데이터 타입이 불(Bool) 자료형 또는 불린(불리언)이라고 하는 자료형입니다. 불이란 이름은 영국의 논리 수학자 조지 불(George Boole)의 이름에서 따왔습니다. 값은 True와 False(대소문자 구별)입니다. True는 1, False는 0으로 대신하여 쓸 수도 있습니다."
   ]
  },
  {
   "cell_type": "code",
   "execution_count": null,
   "id": "twenty-adapter",
   "metadata": {},
   "outputs": [],
   "source": [
    "type(True)"
   ]
  },
  {
   "cell_type": "code",
   "execution_count": null,
   "id": "infrared-bolivia",
   "metadata": {},
   "outputs": [],
   "source": [
    "true = 1"
   ]
  },
  {
   "cell_type": "code",
   "execution_count": null,
   "id": "attractive-guess",
   "metadata": {},
   "outputs": [],
   "source": [
    "type(true)"
   ]
  },
  {
   "cell_type": "code",
   "execution_count": null,
   "id": "elect-attack",
   "metadata": {},
   "outputs": [],
   "source": [
    "type(False)"
   ]
  },
  {
   "cell_type": "code",
   "execution_count": null,
   "id": "thrown-hazard",
   "metadata": {},
   "outputs": [],
   "source": [
    "print(True + True)\n",
    "type(True + True)"
   ]
  },
  {
   "cell_type": "code",
   "execution_count": null,
   "id": "owned-character",
   "metadata": {},
   "outputs": [],
   "source": [
    "# == 는 좌우가 같다는 의미\n",
    "print(1 == 1) # \"1은 1과 같다\"이므로 결과는 참 \n",
    "print(1 < 1) # \"1은 1보다 작다\" 이므로 결과는 거짓"
   ]
  },
  {
   "cell_type": "markdown",
   "id": "engaged-biography",
   "metadata": {},
   "source": [
    "조건문은 불린값이 참인 경우와 거짓인 경우를 나누어서 명령을 처리하는 구문입니다. 문법은 다음과 같습니다.\n",
    "```\n",
    "if 조건(불타입) :\n",
    "    조건이 참일 경우 실행할 명령들\n",
    "    ...\n",
    "else :\n",
    "    조건이 거짓일 경우 실행할 명령들\n",
    "    ...\n",
    "```\n",
    "또는 else에 또다른 조건을 붙이기 위해서는 여러개의 elif(else if의 의미)를 사용할 수 있습니다.\n",
    "```\n",
    "if 조건1(불타입) :\n",
    "    조건이 참일 경우 실행할 명령들\n",
    "    ...\n",
    "elif 조건2(불타입) :\n",
    "    조건1이 거짓이고 조건2가 참일 경우 실행할 명령들\n",
    "    ...\n",
    "else :\n",
    "    모든 조건이 거짓일 경우 실행할 명령들\n",
    "    ...\n",
    "```\n",
    "앞에서 본 비만도를 계산하고 비만도 단계를 출력하는 예제가 조건문(if문)을 사용한 예이므로 다시 한 번 보시기를 권합니다. 다음은 간단한 조건문의 예입니다."
   ]
  },
  {
   "cell_type": "code",
   "execution_count": null,
   "id": "specific-while",
   "metadata": {},
   "outputs": [],
   "source": [
    "a = 11\n",
    "b = 3\n",
    "if a <= b:\n",
    "    print('b가 크거나 같다')\n",
    "else :\n",
    "    print('a가 크다')"
   ]
  },
  {
   "cell_type": "code",
   "execution_count": null,
   "id": "painful-gambling",
   "metadata": {},
   "outputs": [],
   "source": [
    "c = 7\n",
    "d = 6\n",
    "if c == d:\n",
    "    print('c와 d는 같다')\n",
    "elif c < d :\n",
    "    print('d가 크다')\n",
    "else :\n",
    "    print('c가 크다')"
   ]
  },
  {
   "cell_type": "markdown",
   "id": "final-twenty",
   "metadata": {},
   "source": [
    "### 예제 1 : !(팩토리얼; Factorial) 계산\n",
    "수학에서 숫자 뒤에 느낌표를 붙이면 1부터 그 수까지의 자연수를 모두 곱하는 연산을 의미합니다.\n",
    "```\n",
    "5! = 1x2x3x4x5 = 120\n",
    "n! = 1x2x...x(n-1)xn\n",
    "```\n",
    "주어진 n에 대하여 n!을 구하는 프로그램을 만들어 봅시다."
   ]
  },
  {
   "cell_type": "code",
   "execution_count": null,
   "id": "atmospheric-archives",
   "metadata": {},
   "outputs": [],
   "source": [
    "n = 10\n",
    "\n",
    "fact = 1\n",
    "for i in range(n) :\n",
    "    fact = fact * (i + 1) # range()는 0부터 시작하기 때문에 1을 더해줘야 합니다.\n",
    "    \n",
    "fact"
   ]
  },
  {
   "cell_type": "code",
   "execution_count": null,
   "id": "optional-cemetery",
   "metadata": {},
   "outputs": [],
   "source": [
    "n = 10\n",
    "\n",
    "fact = 1\n",
    "for i in range(1, n+1) :\n",
    "    fact = fact * (i) # range()는 0부터 시작하기 때문에 1을 더해줘야 합니다.\n",
    "    \n",
    "fact"
   ]
  },
  {
   "cell_type": "markdown",
   "id": "violent-cancer",
   "metadata": {},
   "source": [
    "## list 타입\n",
    "여기까지는 파이썬의 기초입니다. 한 걸음 더 나아가기 위해서는 리스트(list)를 알아야 합니다. 리스트는 여러 개의 값들을 모아서 가지고 있는 데이터 타입이라고 할 수 있습니다. 먼저 리스트의 예를 보겠습니다.\n",
    "```\n",
    "[0, 1, 2, 3]\n",
    "['a', 'b', 'c']\n",
    "\n",
    "```\n",
    "위에서 처럼 대괄호([]) 안에 여러 개의 데이터를 반점(comma; ,)로 분리해서 나열한 데이터 모음입니다. 리스트는 순서가 있습니다. 그래서 [0, 1, 2]와 [1, 0, 2]는 서로 다른 값입니다. 그리고 각 각의 데이터를 원소(element)라고도 합니다. 그리고 각 원소의 위치는 0부터 시작하는 인덱스 값으로 나타냅니다. 리스트의 맨 앞에 있는 원소의 인덱스는 0이됩니다. 그리고 리스트 뒤에 대괄호를 하나 더 붙이고 인덱스 값을 주면 그 인텍스의 위치에 있는 원소를 불러올 수 있습니다. 이러한 내용들을 실제 코드를 통해서 알아보겠습니다.  "
   ]
  },
  {
   "cell_type": "code",
   "execution_count": null,
   "id": "speaking-article",
   "metadata": {},
   "outputs": [],
   "source": [
    "type([0, 1, 2, 3])"
   ]
  },
  {
   "cell_type": "code",
   "execution_count": null,
   "id": "relevant-nicaragua",
   "metadata": {},
   "outputs": [],
   "source": [
    "print([0, 1, 2, 3][0]) # 리스트의 인덱스 0에 해당하는 값 불러오기\n",
    "print(['a', 'b', 'c'][0]) # 리스트의 인덱스 0에 해당하는 값 불러오기\n",
    "print(['a', 'b', 'c'][2]) # 리스트의 인덱스 2에 해당하는 값 불러오기\n",
    "\n",
    "list_fruit = ['사과', '포도', '복숭아', '배']\n",
    "print(list_fruit[3])"
   ]
  },
  {
   "cell_type": "markdown",
   "id": "clear-cleanup",
   "metadata": {},
   "source": [
    "리스트 타입의 데이터가 갖는 특징 중 하나는 '가변'(mutable) 즉 값이 변할 수 있다는 것입니다. 다음의 코드를 보겠습니다."
   ]
  },
  {
   "cell_type": "code",
   "execution_count": null,
   "id": "serious-vegetarian",
   "metadata": {},
   "outputs": [],
   "source": [
    "list_fruit"
   ]
  },
  {
   "cell_type": "code",
   "execution_count": null,
   "id": "threatened-johnson",
   "metadata": {},
   "outputs": [],
   "source": [
    "list_fruit.append('귤')\n",
    "list_fruit"
   ]
  },
  {
   "cell_type": "markdown",
   "id": "obvious-ghost",
   "metadata": {},
   "source": [
    "위와 같이 리스트에 .append()라는 함수를 써서 '귤'이라는 원소를 맨 뒤에 추가하였습니다. 그러고 나면 원래의 list_fruit라는 리스트의 값이 변한 것을 알 수 있습니다. 참고로 데이터 타입에서 가변의 반대는 불변(immutable)입니다. 데이터 타입마다 '가변' 또는 '불변' 둘 중의 하나의 속성을 갖습니다.\n",
    "가변인 타입은 다음과 같습니다.\n",
    "\n",
    "* list\n",
    "* set\n",
    "* dict\n",
    "\n",
    "이중 우리가 배운 것은 리스트 뿐이니, 나머지는 참고로만 봐 주시면 됩니다.\n",
    "\n",
    "그리고 대부분의 테이터 타입들은 불변입니다. 불변인 타입은 다음과 같습니다.\n",
    "\n",
    "* int\n",
    "* float\n",
    "* bool\n",
    "* str\n",
    "* tuple\n",
    "* frozenset\n",
    "\n",
    "앞에서 배운 정수와 실수 문자열 들은 불변인 타입의 데이터입니다."
   ]
  },
  {
   "cell_type": "markdown",
   "id": "acting-acrobat",
   "metadata": {},
   "source": [
    "### 예제 2 : 피보나치 수(Fibonacci numbers)\n",
    "이제 리스트까지 알아보았습니다. 리스트를 이용하면 좀 더 좋은 코드를 만들 수 있습니다. 리스트를 활용해서 피보나치 수를 구하는 프로그램을 만들어 보겠습니다. 피보나치 수는 아래와 같이 앞의 두 수의 합으로 만들어 지는 수들입니다. 피보나치 수열이라고도 합니다.\n",
    "\n",
    "```\n",
    "1, 1, 2, 3, 5, 8, ...\n",
    "```\n",
    "첫 항은 1로 시작을 했습니다. 2번째항은 앞의 항이 1개밖에 없으므로 앞항과 같이 1이 됩니다. 그 다음 3번째 항은 전항(2번째 항) 1과 전전항(1번째 항) 1을 합하여 2가 됩니다. 이런 식으로 앞의 두 항을 더하여 다음 항의 값을 만드는 방법으로 계속해서 수들을 나열할 수 있습니다. 이 피보나치 수의 n번째까지의 수들을 구하는 프로그램을 기본적인 방법으로 만들어 보겠습니다. 프로그램은 다음과 같은 방식으로 결과를 만들어 보여주면 됩니다.  \n",
    "```\n",
    "n = 1 -> 1\n",
    "n = 2 -> 1, 1\n",
    "n = 3 -> 1, 1, 2\n",
    "....\n",
    "n = 6 -> 1, 1, 2, 3, 5, 8\n",
    "....\n",
    "....\n",
    "```\n",
    "다음과 같이 코드를 만들어 보았습니다."
   ]
  },
  {
   "cell_type": "code",
   "execution_count": 13,
   "id": "tired-broadway",
   "metadata": {},
   "outputs": [
    {
     "data": {
      "text/plain": [
       "[1,\n",
       " 1,\n",
       " 2,\n",
       " 3,\n",
       " 5,\n",
       " 8,\n",
       " 13,\n",
       " 21,\n",
       " 34,\n",
       " 55,\n",
       " 89,\n",
       " 144,\n",
       " 233,\n",
       " 377,\n",
       " 610,\n",
       " 987,\n",
       " 1597,\n",
       " 2584,\n",
       " 4181,\n",
       " 6765,\n",
       " 10946,\n",
       " 17711,\n",
       " 28657,\n",
       " 46368,\n",
       " 75025,\n",
       " 121393,\n",
       " 196418,\n",
       " 317811,\n",
       " 514229,\n",
       " 832040]"
      ]
     },
     "execution_count": 13,
     "metadata": {},
     "output_type": "execute_result"
    }
   ],
   "source": [
    "n = 30\n",
    "\n",
    "fibo = [] # 피보나치 수를 담을 빈 리스트를 하나 만듬.\n",
    "for i in range(n) : \n",
    "    if i == 0 :\n",
    "        fibo.append(1)\n",
    "    elif i == 1 :\n",
    "        fibo.append(1)\n",
    "    else :\n",
    "        f_i = fibo[i - 2] + fibo[i - 1]\n",
    "        fibo.append(f_i)\n",
    "\n",
    "fibo    "
   ]
  },
  {
   "cell_type": "markdown",
   "id": "beginning-blackjack",
   "metadata": {},
   "source": [
    "## 함수(function)\n",
    "프로그램의 꽃은 함수입니다. 수학에서 배운 함수와 비슷한 면이 있지만 완전히 똑같은 개념은 아닙니다. 프로그래밍에서 함수는 여러가지 기능을 모아서 하나의 명령어로 만든 결과물이라고 볼 수 있습니다. 함수는 보통 입력을 받아서 출력을 내어 주는 일을 합니다. 물론 출력을 내주지 않을 수도 있고 출력을 내보내는 것보다 더 중요한 일을 하는 것이 목적인 경우도 있습니다. 그래도 지금은 조금 단순하게 함수는 입력 데이터를 받아서 정해진 규칙대로 계산한 결과를 출력으로 보내주는 명령어라고 생각하는 것이 좋습니다. 간단한 예로 위에서 만들어 본 피보나치 수를 만드는 프로그램을 함수로 만들어 보겠습니다.  \n",
    "함수를 만들기 전에 함수가 받을 입력 데이터와 출력값을 미리 정의하는 것이 좋습니다. 그리고 함수의 이름이 있어야 합니다.\n",
    "\n",
    "* 함수이름 : fibo()\n",
    "* 입력 데이터 : 자연수 n\n",
    "* 출력 데이터 : n개의 피보나치 수를 갖는 리스트\n",
    "* 사용법 : fibo(n)하고 실행하면 n개의 피보나치 수를 갖는 리스트를 출력값으로 반환\n",
    "\n",
    "이러한 역할을 할 수 있응 함수를 만들면 아래와 같습니다."
   ]
  },
  {
   "cell_type": "code",
   "execution_count": 15,
   "id": "extra-interest",
   "metadata": {},
   "outputs": [],
   "source": [
    "def fibo_func(n):\n",
    "    fibo_list = []\n",
    "    for i in range(n) : \n",
    "        if i == 0 :\n",
    "            fibo_list.append(1)\n",
    "        elif i == 1 :\n",
    "            fibo_list.append(1)\n",
    "        else :\n",
    "            f_i = fibo_list[i - 2] + fibo_list[i - 1]\n",
    "            fibo_list.append(f_i)\n",
    "    return fibo_list"
   ]
  },
  {
   "cell_type": "code",
   "execution_count": 17,
   "id": "familiar-sailing",
   "metadata": {},
   "outputs": [
    {
     "data": {
      "text/plain": [
       "[1,\n",
       " 1,\n",
       " 2,\n",
       " 3,\n",
       " 5,\n",
       " 8,\n",
       " 13,\n",
       " 21,\n",
       " 34,\n",
       " 55,\n",
       " 89,\n",
       " 144,\n",
       " 233,\n",
       " 377,\n",
       " 610,\n",
       " 987,\n",
       " 1597,\n",
       " 2584,\n",
       " 4181,\n",
       " 6765,\n",
       " 10946,\n",
       " 17711,\n",
       " 28657,\n",
       " 46368,\n",
       " 75025,\n",
       " 121393,\n",
       " 196418,\n",
       " 317811,\n",
       " 514229,\n",
       " 832040,\n",
       " 1346269,\n",
       " 2178309,\n",
       " 3524578,\n",
       " 5702887,\n",
       " 9227465,\n",
       " 14930352,\n",
       " 24157817,\n",
       " 39088169,\n",
       " 63245986,\n",
       " 102334155,\n",
       " 165580141,\n",
       " 267914296,\n",
       " 433494437,\n",
       " 701408733,\n",
       " 1134903170,\n",
       " 1836311903,\n",
       " 2971215073,\n",
       " 4807526976,\n",
       " 7778742049,\n",
       " 12586269025]"
      ]
     },
     "execution_count": 17,
     "metadata": {},
     "output_type": "execute_result"
    }
   ],
   "source": [
    "fibo_func(50)"
   ]
  },
  {
   "cell_type": "markdown",
   "id": "formed-infrastructure",
   "metadata": {},
   "source": [
    "### 연습문제 1 : 팩토리얼 계산 함수\n",
    "앞에서 함수가 무엇인지 알아보고 함수를 어떻게 만들고 사용하는지 알아보았습니다. 아래는 함수를 만드는 연습문제입니다. 아래 설명대로 실행하여 결과를 반환하는 함수를 완성해 보시기 바랍니다.\n",
    "\n",
    "* 계산식 : n! = 1 x 2 x ... x (n-1) x n\n",
    "* 함수이름 : facto(n)\n",
    "* 입력 데이터 : 자연수 n\n",
    "* 출력 데이터 : n 팩도리얼 계산 결과(n! ; 1부터 n까지 모든 수의 곱)\n",
    "* 사용법 : facto(n)라고 실행하면 n!의 값을 계산하여 출력값으로 반환"
   ]
  },
  {
   "cell_type": "code",
   "execution_count": null,
   "id": "direct-female",
   "metadata": {},
   "outputs": [],
   "source": [
    "def facto(n):\n",
    "    # 이곳의 코드를 완성하시오.\n",
    "    \n",
    "    return output_value"
   ]
  },
  {
   "cell_type": "code",
   "execution_count": null,
   "id": "cultural-support",
   "metadata": {},
   "outputs": [],
   "source": [
    "# facto(5)의 값이 120인지 확인해 보시오.\n"
   ]
  },
  {
   "cell_type": "markdown",
   "id": "front-reducing",
   "metadata": {},
   "source": [
    "### 연습문제 2 : 이자(단리) 계산 함수\n",
    "이자는 원금에 이율을 곱하여 구합니다. 이율을 보통 연이율을 사용하며 원금을 1년 동안 예치할 경우에 이자가 붙는 비율입니다. 예를 들면 100만원을 이율이 5%인 예금에 저금할 경우 1년이 지나면 5만원(100만원 x 0.05)의 이자가 생깁니다. 단리(Simple Interest)의 경우 이자에는 이자가 붙지 않습니다. 100만원을 2년 예치하면 10만원(100만원 x 0.05 x 2)의 이자가 생깁니다. 주어진 이율(sir; simple interest rate)에 대하여 원금(principal)과 예치기간(n년)이 주어졌을 때 최종 원금과 이자의 합을 구하는 함수를 만들어 보시기 바랍니다.\n",
    "아래 설명대로 실행하여 결과를 반환하는 함수를 완성해 보시기 바랍니다.\n",
    "\n",
    "* 계산식 : 원리금의 합 = 원금 + 원금 x 이율 x 예치 연 수 = principal x sir x n\n",
    "* 함수이름 : simple_inter(principal, sir, n)\n",
    "* 입력 데이터 : 원금(principal), 이율(sir), 예치 연수(n)\n",
    "* 출력 데이터 : n년 동안 예치한 후의 원리금의 합\n",
    "* 사용법 : simple_inter(principal, sir, n)라고 실행하면 n년 후의 원리금의 합을 계산하여 출력값으로 반환"
   ]
  },
  {
   "cell_type": "code",
   "execution_count": null,
   "id": "supreme-advisory",
   "metadata": {},
   "outputs": [],
   "source": [
    "def simple_inter(principal, sir, n):\n",
    "    sum = principal * (1 + sir * n) # 원금 더하기 이자\n",
    "    return sum"
   ]
  },
  {
   "cell_type": "code",
   "execution_count": null,
   "id": "spare-spread",
   "metadata": {},
   "outputs": [],
   "source": [
    "simple_inter(1000000, 0.05, 2)"
   ]
  },
  {
   "cell_type": "markdown",
   "id": "hazardous-shower",
   "metadata": {},
   "source": [
    "### 예제 3 : 이자(복리) 계산 함수(반복문 사용)\n",
    "앞에서 원금에만 이자가 붙는 단리의 이자 계산 함수를 만들어 보았습니다. 이번에는 이자에도 이자가 붙는 복리의 이자를 구하는 함수를 만드는 연습문제입니다. 앞의 연습문제2에서와 같은 조건이지만 단리가 아닌 복리의 경우를 비교해 보겠습니다. 위와 같이 100만원을 2년간 예치한 경우 1년 후에는 원금과 이자를 합하여 105만원이 됩니다. 그리고 1년이 더 지나면 이 원리금 합계에 다시 이자가 붙기 때문에 105만원 더하기 5만2천5백원(105만원 곱하기 0.05)이 됩니다. 그래서 2년 후 원리금 합계는 1,102,500원이 됩니다. 이렇게 원금과 이자에 모두 이자가 붙는 복리의 방법으로 원금과 이자의 합을 구하는 함수를 만드는 문제입니다. 주어진 이율(cir; compound interest rate)에 대하여 원금(principal)과 예치기간(n년)이 주어졌을 때 최종 원금과 이자의 합을 구하는 함수를 만들어 보겠습니다.\n",
    "수학에서 등비수열의 합 공식을 이용하면 위의 연습문제와 비슷한 방식으로 간단하게 함수를 만들 수 있습니다. 이런 방식으로 코딩하는 것은 다음의 연습문제로 남겨 놓겠습니다. 이 예제에서는 앞에서 배운 반복문을 사용하여 만들어 보겠습니다.\n",
    "\n",
    "* 계산식 : 원리금의 합 = 1년전 원리금의 합 + (1년전 원리금의 합) x 이율 = (1년전 원리금의 합) x (1 + 이율)\n",
    "* 함수이름 : compound_inter_loop(principal, cir, n)\n",
    "* 입력 데이터 : 원금(principal), 이율(cir), 예치 연수(n)\n",
    "* 출력 데이터 : n년 동안 예치한 후의 원리금의 합\n",
    "* 사용법 : compound_inter_loop(principal, cir, n)라고 실행하면 n년 후의 원리금의 합을 계산하여 출력값으로 반환"
   ]
  },
  {
   "cell_type": "code",
   "execution_count": null,
   "id": "burning-bahamas",
   "metadata": {},
   "outputs": [],
   "source": [
    "##\n",
    "def compound_inter_loop(principal, cir, n):\n",
    "    sum = principal\n",
    "    for i in range(1, n + 1) :\n",
    "        sum = sum * (1 + cir) # 1년 후 원리금 : 전년 원리금 곱하기 이율\n",
    "    return sum\n"
   ]
  },
  {
   "cell_type": "code",
   "execution_count": null,
   "id": "entitled-mechanics",
   "metadata": {},
   "outputs": [],
   "source": [
    "compound_inter_loop(1000000, 0.05, 2)"
   ]
  },
  {
   "cell_type": "markdown",
   "id": "devoted-retailer",
   "metadata": {},
   "source": [
    "동일한 이율에 대하여 단리와 복리의 경우 원리금의 합계를 구하는 함수를 만들어 보았습니다. 위의 두 함수를 이용하여 예치기간이 아래와 같이 다른 경우에 대하여 비교해 보겠습니다.  \n",
    "\n",
    "예치기간  \n",
    "\n",
    "---\n",
    "* 1년\n",
    "* 5년\n",
    "* 10년\n",
    "* 20년\n",
    "* 50년\n"
   ]
  },
  {
   "cell_type": "code",
   "execution_count": null,
   "id": "affecting-serve",
   "metadata": {},
   "outputs": [],
   "source": [
    "prn = 1000000 #초기 원금 백만원\n",
    "r = 0.05 # 이율 5%\n",
    "n = 1 # 예치기간 1 년\n",
    "\n",
    "print('단리 상품, 예치기간 : ' + str(n)  + ' 년,  원리금 합계 : ' + str(simple_inter(prn, r, n)) + ' 원' )\n",
    "print('복리 상품, 예치기간 : ' + str(n)  + ' 년,  원리금 합계 : ' + str(compound_inter_loop(prn, r, n)) + ' 원' )"
   ]
  },
  {
   "cell_type": "code",
   "execution_count": null,
   "id": "accepted-england",
   "metadata": {},
   "outputs": [],
   "source": [
    "n = 5 # 예치기간 5 년\n",
    "\n",
    "print('단리 상품, 예치기간 : ' + str(n)  + ' 년,  원리금 합계 : ' + str(simple_inter(prn, r, n)) + ' 원' )\n",
    "print('복리 상품, 예치기간 : ' + str(n)  + ' 년,  원리금 합계 : ' + str(compound_inter_loop(prn, r, n)) + ' 원' )"
   ]
  },
  {
   "cell_type": "code",
   "execution_count": null,
   "id": "greenhouse-military",
   "metadata": {},
   "outputs": [],
   "source": [
    "n = 10 # 예치기간 10 년\n",
    "\n",
    "print('단리 상품, 예치기간 : ' + str(n)  + ' 년,  원리금 합계 : ' + str(simple_inter(prn, r, n)) + ' 원' )\n",
    "print('복리 상품, 예치기간 : ' + str(n)  + ' 년,  원리금 합계 : ' + str(compound_inter_loop(prn, r, n)) + ' 원' )"
   ]
  },
  {
   "cell_type": "code",
   "execution_count": null,
   "id": "competent-anaheim",
   "metadata": {},
   "outputs": [],
   "source": [
    "n = 20 # 예치기간 20 년\n",
    "\n",
    "print('단리 상품, 예치기간 : ' + str(n)  + ' 년,  원리금 합계 : ' + str(simple_inter(prn, r, n)) + ' 원' )\n",
    "print('복리 상품, 예치기간 : ' + str(n)  + ' 년,  원리금 합계 : ' + str(compound_inter_loop(prn, r, n)) + ' 원' )"
   ]
  },
  {
   "cell_type": "code",
   "execution_count": null,
   "id": "unsigned-slovakia",
   "metadata": {},
   "outputs": [],
   "source": [
    "n = 50 # 예치기간 20 년\n",
    "\n",
    "print('단리 상품, 예치기간 : ' + str(n)  + ' 년,  원리금 합계 : ' + str(simple_inter(prn, r, n)) + ' 원' )\n",
    "print('복리 상품, 예치기간 : ' + str(n)  + ' 년,  원리금 합계 : ' + str(compound_inter_loop(prn, r, n)) + ' 원' )"
   ]
  },
  {
   "cell_type": "markdown",
   "id": "accredited-estonia",
   "metadata": {},
   "source": [
    "이번에는 이율이 좀 높은 경우를 비교해 보겠습니다.  \n",
    "이율이 10% 라고 하고 같은 함수를 실행하여 비교해 보겠습니다."
   ]
  },
  {
   "cell_type": "code",
   "execution_count": null,
   "id": "stuck-appliance",
   "metadata": {},
   "outputs": [],
   "source": [
    "prn = 1000000 #초기 원금 백만원\n",
    "r = 0.10 # 이율 10%\n",
    "n = 1 # 예치기간 1 년\n",
    "\n",
    "print('단리 상품, 이율 : ' + str(r * 100) + '%, 예치기간 : ' + str(n)  + ' 년,  원리금 합계 : ' + str(simple_inter(prn, r, n)) + ' 원' )\n",
    "print('복리 상품, 이율 : ' + str(r * 100) + '%, 예치기간 : ' + str(n)  + ' 년,  원리금 합계 : ' + str(compound_inter_loop(prn, r, n)) + ' 원' )"
   ]
  },
  {
   "cell_type": "code",
   "execution_count": null,
   "id": "painted-sphere",
   "metadata": {},
   "outputs": [],
   "source": [
    "n = 5 # 예치기간 5 년\n",
    "\n",
    "print('단리 상품, 이율 : ' + str(r * 100) + '%, 예치기간 : ' + str(n)  + ' 년,  원리금 합계 : ' + str(simple_inter(prn, r, n)) + ' 원' )\n",
    "print('복리 상품, 이율 : ' + str(r * 100) + '%, 예치기간 : ' + str(n)  + ' 년,  원리금 합계 : ' + str(compound_inter_loop(prn, r, n)) + ' 원' )"
   ]
  },
  {
   "cell_type": "code",
   "execution_count": null,
   "id": "historical-trance",
   "metadata": {},
   "outputs": [],
   "source": [
    "n = 10 # 예치기간 10 년\n",
    "\n",
    "print('단리 상품, 이율 : ' + str(r * 100) + '%, 예치기간 : ' + str(n)  + ' 년,  원리금 합계 : ' + str(simple_inter(prn, r, n)) + ' 원' )\n",
    "print('복리 상품, 이율 : ' + str(r * 100) + '%, 예치기간 : ' + str(n)  + ' 년,  원리금 합계 : ' + str(compound_inter_loop(prn, r, n)) + ' 원' )"
   ]
  },
  {
   "cell_type": "code",
   "execution_count": null,
   "id": "worse-magazine",
   "metadata": {},
   "outputs": [],
   "source": [
    "n = 20 # 예치기간 20 년\n",
    "\n",
    "print('단리 상품, 이율 : ' + str(r * 100) + '%, 예치기간 : ' + str(n)  + ' 년,  원리금 합계 : ' + str(simple_inter(prn, r, n)) + ' 원' )\n",
    "print('단리 상품, 이율 : ' + str(r * 100) + '%, 예치기간 : ' + str(n)  + ' 년,  원리금 합계 : ' + str(compound_inter_loop(prn, r, n)) + ' 원' )"
   ]
  },
  {
   "cell_type": "code",
   "execution_count": null,
   "id": "satisfactory-retention",
   "metadata": {},
   "outputs": [],
   "source": [
    "n = 50 # 예치기간 50 년\n",
    "\n",
    "print('단리 상품, 이율 : ' + str(r * 100) + '%, 예치기간 : ' + str(n)  + ' 년,  원리금 합계 : ' + str(simple_inter(prn, r, n)) + ' 원' )\n",
    "print('복리 상품, 이율 : ' + str(r * 100) + '%, 예치기간 : ' + str(n)  + ' 년,  원리금 합계 : ' + str(compound_inter_loop(prn, r, n)) + ' 원' )"
   ]
  },
  {
   "cell_type": "markdown",
   "id": "based-hardwood",
   "metadata": {},
   "source": [
    "이율이 10%인 상품에 50년을 예치하면 원리금은 1억원이 넘습니다. 만약 이율이 20%인 상품이 있다면 어떻게 될까요? 각자 구해 보시기 바랍니다."
   ]
  },
  {
   "cell_type": "code",
   "execution_count": null,
   "id": "parallel-growing",
   "metadata": {},
   "outputs": [],
   "source": [
    "n = 50 # 예치기간 50 년\n",
    "r = 0.2\n",
    "print('단리 상품, 이율 : ' + str(r * 100) + '%, 예치기간 : ' + str(n)  + ' 년,  원리금 합계 : ' + str(simple_inter(prn, r, n)) + ' 원' )\n",
    "print('복리 상품, 이율 : ' + str(r * 100) + '%, 예치기간 : ' + str(n)  + ' 년,  원리금 합계 : ' + str(compound_inter_loop(prn, r, n)) + ' 원' )"
   ]
  },
  {
   "cell_type": "markdown",
   "id": "conceptual-linux",
   "metadata": {},
   "source": [
    "만약에 이율이 20% 복리인 투자 상품이 있다면, 100만원을 50년 동안 예치하면 최종 원리금의 합계는 단리의 경우 천백만원이되고, 복리의 경우 9십1억원이 됩니다."
   ]
  },
  {
   "cell_type": "code",
   "execution_count": null,
   "id": "reverse-trustee",
   "metadata": {},
   "outputs": [],
   "source": []
  }
 ],
 "metadata": {
  "kernelspec": {
   "display_name": "Python 3",
   "language": "python",
   "name": "python3"
  },
  "language_info": {
   "codemirror_mode": {
    "name": "ipython",
    "version": 3
   },
   "file_extension": ".py",
   "mimetype": "text/x-python",
   "name": "python",
   "nbconvert_exporter": "python",
   "pygments_lexer": "ipython3",
   "version": "3.10.11"
  }
 },
 "nbformat": 4,
 "nbformat_minor": 5
}
